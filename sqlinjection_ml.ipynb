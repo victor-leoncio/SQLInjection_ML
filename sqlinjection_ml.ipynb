{
 "cells": [
  {
   "cell_type": "markdown",
   "id": "31Yu29lsngWq",
   "metadata": {
    "id": "31Yu29lsngWq"
   },
   "source": [
    "# Imports"
   ]
  },
  {
   "cell_type": "code",
   "execution_count": 2,
   "id": "91200204-a9a0-4857-8e5a-0ee81120b192",
   "metadata": {
    "id": "91200204-a9a0-4857-8e5a-0ee81120b192"
   },
   "outputs": [],
   "source": [
    "import numpy as np\n",
    "import pandas as pd\n",
    "import seaborn as sns\n",
    "import matplotlib.pyplot as plt\n",
    "from sklearn.feature_extraction.text import TfidfVectorizer\n",
    "from sklearn.feature_extraction.text import CountVectorizer\n",
    "from sklearn.model_selection import train_test_split\n",
    "from sklearn.linear_model import Perceptron\n",
    "from sklearn.svm import LinearSVC\n",
    "from sklearn.svm import SVC\n",
    "from sklearn.metrics import classification_report\n",
    "from sklearn.ensemble import RandomForestClassifier\n",
    "from sklearn.metrics import accuracy_score\n",
    "from sklearn.naive_bayes import GaussianNB\n",
    "from imblearn.over_sampling import SMOTE\n",
    "from sklearn.feature_selection import SelectFromModel\n",
    "from sklearn.decomposition import PCA\n",
    "from sklearn.decomposition import TruncatedSVD\n",
    "from sklearn.linear_model import SGDClassifier\n",
    "from sklearn.neural_network import MLPClassifier\n",
    "from sklearn.pipeline import Pipeline\n",
    "from sklearn.metrics import confusion_matrix"
   ]
  },
  {
   "cell_type": "markdown",
   "id": "iGnCppQ3ZMu2",
   "metadata": {
    "id": "iGnCppQ3ZMu2"
   },
   "source": [
    "# Informações"
   ]
  },
  {
   "cell_type": "markdown",
   "id": "9lvNYy2uZdBo",
   "metadata": {
    "id": "9lvNYy2uZdBo",
    "jp-MarkdownHeadingCollapsed": true
   },
   "source": [
    "### Maldição de Dimensionalidade"
   ]
  },
  {
   "cell_type": "markdown",
   "id": "qhkFZKniZmNp",
   "metadata": {
    "id": "qhkFZKniZmNp"
   },
   "source": [
    "A \"maldição da dimensionalidade\" é um fenômeno que ocorre quando lidamos com conjuntos de dados de alta dimensionalidade. Isso pode ter várias implicações negativas, incluindo:\n",
    "\n",
    "    Espaço de características esparsas: Com o aumento da dimensionalidade, o espaço de características se torna cada vez mais \"espalhado\", o que significa que os pontos de dados tendem a se afastar uns dos outros. Isso pode levar a problemas de generalização, pois pode ser mais difícil para o modelo aprender padrões significativos nos dados.\n",
    "\n",
    "    Custos computacionais elevados: Modelos de aprendizado de máquina podem se tornar mais lentos e exigir mais recursos computacionais à medida que o número de características aumenta. Isso ocorre porque o cálculo de distâncias ou a operação em espaços de alta dimensão é mais complexo.\n",
    "\n",
    "    Overfitting: Com um grande número de características, os modelos podem se tornar excessivamente complexos e ter dificuldade em generalizar para novos dados, levando ao overfitting.\n",
    "\n",
    "Para lidar com esses problemas, a redução de dimensionalidade é frequentemente aplicada. A redução de dimensionalidade é o processo de reduzir o número de variáveis ​​(ou características) em um conjunto de dados, enquanto mantém o máximo de informação possível. Duas técnicas comuns de redução de dimensionalidade são:\n",
    "\n",
    "    PCA (Principal Component Analysis): O PCA é uma técnica que projeta os dados em um novo conjunto de coordenadas que são ortogonais entre si (chamadas de componentes principais). O PCA reorganiza as características de modo que as primeiras componentes principais contenham a maior parte da variância dos dados. Isso permite reduzir a dimensionalidade mantendo a maior parte da informação.\n",
    "\n",
    "    Seleção de características: Esta técnica envolve selecionar um subconjunto das características originais do conjunto de dados. A seleção de características pode ser feita com base em várias métricas, como importância das características, correlação com a variável de saída, ou através de métodos automatizados.\n",
    "\n",
    "Portanto, ao lidar com conjuntos de dados de alta dimensionalidade, a redução de dimensionalidade, como PCA ou seleção de características, pode ser útil para mitigar os problemas associados à maldição da dimensionalidade e melhorar o desempenho dos modelos de aprendizado de máquina."
   ]
  },
  {
   "cell_type": "markdown",
   "id": "hs3EXkg9ZzJl",
   "metadata": {
    "id": "hs3EXkg9ZzJl"
   },
   "source": [
    "### Overfitting"
   ]
  },
  {
   "cell_type": "markdown",
   "id": "ch8sdEu_Z-NS",
   "metadata": {
    "id": "ch8sdEu_Z-NS"
   },
   "source": [
    "Não, o overfitting não é exclusivo de conjuntos de dados de alta dimensionalidade, mas é um fenômeno que pode ocorrer em uma variedade de cenários de modelagem de dados. O overfitting acontece quando um modelo se ajusta demais aos dados de treinamento, capturando não apenas os padrões verdadeiros nos dados, mas também o ruído aleatório ou peculiaridades específicas do conjunto de treinamento. Isso pode levar a uma queda no desempenho do modelo quando é aplicado a novos dados.\n",
    "\n",
    "Embora o overfitting possa ser exacerbado por conjuntos de dados de alta dimensionalidade devido à maior complexidade do modelo, ele pode ocorrer em qualquer conjunto de dados, independentemente da dimensionalidade.Além disso, há várias razões pelas quais o overfitting pode ocorrer:\n",
    "\n",
    "    Complexidade do Modelo: Modelos muito complexos podem ser capazes de se ajustar aos dados de treinamento com precisão excessiva, capturando padrões que não são generalizáveis para novos dados.\n",
    "\n",
    "    Tamanho do Conjunto de Dados: Quando o conjunto de dados de treinamento é pequeno em relação à complexidade do modelo, pode haver poucos exemplos para aprender os padrões verdadeiros nos dados, levando a um ajuste excessivo.\n",
    "\n",
    "    Ruído nos Dados: Se os dados contiverem ruído aleatório ou informações irrelevantes, o modelo pode aprender a ajustar-se a esse ruído, em vez de capturar os padrões verdadeiros nos dados.\n",
    "\n",
    "    Viés de Seleção de Modelo: Se várias configurações de modelo forem testadas em um conjunto de dados e a seleção do modelo for baseada apenas no desempenho nos dados de treinamento (sem validação em dados de teste), pode ocorrer overfitting.\n",
    "\n",
    "Portanto, o overfitting é um desafio comum em aprendizado de máquina e deve ser tratado cuidadosamente em todos os cenários de modelagem, não apenas em conjuntos de dados de alta dimensionalidade. Estratégias como validação cruzada, regularização, seleção de modelo e aumento de dados são comumente usadas para lidar com o overfitting e melhorar o desempenho do modelo em dados não vistos."
   ]
  },
  {
   "cell_type": "markdown",
   "id": "cj5iwjKwaNSP",
   "metadata": {
    "id": "cj5iwjKwaNSP"
   },
   "source": [
    "### Perceptron com muita acurácia em relação a outros"
   ]
  },
  {
   "cell_type": "markdown",
   "id": "ampWchXTaUiN",
   "metadata": {
    "id": "ampWchXTaUiN"
   },
   "source": [
    "Aqui estão algumas possíveis razões para o Perceptron ter uma acurácia significativamente maior em comparação com os outros modelos:\n",
    "\n",
    "    Sensibilidade à escala dos dados:\n",
    "        O Perceptron pode ser sensível à escala dos dados. Se os dados não estiverem normalizados ou padronizados corretamente, isso pode afetar seu desempenho. Se o TF-IDF produziu uma matriz de termos com valores em uma escala adequada para o Perceptron, mas não para os outros modelos, isso poderia explicar a diferença de desempenho.\n",
    "\n",
    "    Linearidade do problema:\n",
    "        O Perceptron é um classificador linear simples que funciona bem em problemas de classificação linearmente separáveis. Se o problema de classificação dos dados for linearmente separável, o Perceptron pode ser capaz de encontrar uma fronteira de decisão eficaz com facilidade, enquanto outros modelos mais complexos podem não ser necessários.\n",
    "\n",
    "    Capacidade de generalização:\n",
    "        O Perceptron é um modelo simples com menor capacidade de memorização em comparação com modelos mais complexos, como Random Forest ou SVM. Isso pode ajudar na generalização para novos dados, evitando overfitting.\n",
    "\n",
    "    Ruído nos dados:\n",
    "        Se os dados contiverem ruído ou características irrelevantes, modelos mais complexos podem ser mais propensos a se ajustar a esse ruído, enquanto o Perceptron, sendo mais simples, pode ser mais resistente a isso.\n",
    "\n",
    "    Tamanho do conjunto de dados:\n",
    "        O desempenho dos modelos pode ser afetado pelo tamanho do conjunto de dados. Se o conjunto de dados é relativamente pequeno, modelos mais simples podem ter uma vantagem sobre modelos mais complexos devido à redução da possibilidade de overfitting.\n",
    "\n",
    "É importante investigar mais detalhadamente esses pontos para entender completamente por que o Perceptron está superando os outros modelos. A análise de curvas de aprendizado, validação cruzada e inspeção dos dados podem fornecer insights adicionais sobre o desempenho dos modelos e possíveis áreas de melhoria."
   ]
  },
  {
   "cell_type": "markdown",
   "id": "06I7n3QyaghM",
   "metadata": {
    "id": "06I7n3QyaghM"
   },
   "source": [
    "### Melhores modelos para dados grandes e alta dimensionalidade"
   ]
  },
  {
   "cell_type": "markdown",
   "id": "xz7ySeLSavQj",
   "metadata": {
    "id": "xz7ySeLSavQj"
   },
   "source": [
    "Com um conjunto de dados tão grande e com alta dimensionalidade, a escolha do melhor modelo dependerá de diversos fatores, como a natureza dos dados, a distribuição das classes, a quantidade de ruído nos dados e os recursos computacionais disponíveis. No entanto, aqui estão algumas opções que você pode considerar no scikit-learn:\n",
    "\n",
    "    LinearSVC:\n",
    "        O LinearSVC é um classificador de máquina de vetores de suporte linear que pode lidar bem com conjuntos de dados de alta dimensionalidade.\n",
    "        Ele pode ser eficaz em espaços de características de grande escala e é conhecido por ter um desempenho rápido em conjuntos de dados grandes.\n",
    "\n",
    "    SGDClassifier:\n",
    "        O SGDClassifier é um classificador linear que utiliza gradiente descendente estocástico para treinamento.\n",
    "        É uma escolha popular para classificação de grandes conjuntos de dados, pois pode lidar com altas dimensões e grandes quantidades de dados.\n",
    "\n",
    "    RandomForestClassifier:\n",
    "        O RandomForestClassifier é um classificador baseado em árvores de decisão que pode lidar com conjuntos de dados de alta dimensionalidade.\n",
    "        Ele pode ser robusto em relação ao overfitting e é capaz de capturar relações não lineares nos dados.\n",
    "\n",
    "    GradientBoostingClassifier:\n",
    "        O GradientBoostingClassifier é um classificador baseado em árvores de decisão que utiliza o método de boosting para construir um modelo forte a partir de modelos fracos.\n",
    "        Ele pode lidar com conjuntos de dados de alta dimensionalidade e pode ser muito poderoso em termos de precisão.\n",
    "\n",
    "    Redes Neurais com MLPClassifier:\n",
    "        Embora as redes neurais profundas sejam mais frequentemente associadas a conjuntos de dados de alta dimensionalidade, o MLPClassifier (Multi-layer Perceptron) no scikit-learn pode ser uma opção a ser considerada se você deseja explorar o potencial das redes neurais em seu conjunto de dados.\n",
    "\n",
    "Essas são apenas algumas opções no scikit-learn que podem ser úteis para classificação em conjuntos de dados de alta dimensionalidade. É importante experimentar várias opções e ajustar os hiperparâmetros para encontrar o modelo que melhor se adapte aos seus dados e objetivos específicos. Além disso, considerar técnicas de pré-processamento, como redução de dimensionalidade, pode ser benéfico para lidar com conjuntos de dados tão grandes."
   ]
  },
  {
   "cell_type": "markdown",
   "id": "iTzj_DogbEJ7",
   "metadata": {
    "id": "iTzj_DogbEJ7"
   },
   "source": [
    "### Classification Report (Explicação)"
   ]
  },
  {
   "cell_type": "markdown",
   "id": "ybsTJKiMbJdR",
   "metadata": {
    "id": "ybsTJKiMbJdR"
   },
   "source": [
    "O classification report do sklearn fornece métricas de desempenho de um modelo de classificação para cada classe do problema. Aqui está o que cada métrica significa:\n",
    "\n",
    "    Precision (Precisão): A precisão é a proporção de exemplos classificados corretamente como positivos (classe 1) em relação ao total de exemplos classificados como positivos (verdadeiros positivos + falsos positivos). Em outras palavras, é a habilidade do modelo de não rotular uma amostra como positiva quando ela é negativa. Para a classe 0, a precisão é 0.97, o que significa que 97% dos exemplos classificados como classe 0 são realmente da classe 0. Para a classe 1, a precisão é 0.99, o que significa que 99% dos exemplos classificados como classe 1 são realmente da classe 1.\n",
    "\n",
    "    Recall (Revocação): A revocação é a proporção de exemplos positivos (classe 1) que foram corretamente identificados pelo modelo em relação ao total de exemplos que realmente são positivos (verdadeiros positivos + falsos negativos). Em outras palavras, é a habilidade do modelo de encontrar todas as amostras positivas. Para a classe 0, a revocação é 1.00, o que significa que o modelo identifica corretamente todas as amostras da classe 0. Para a classe 1, a revocação é 0.95, o que significa que o modelo identifica corretamente 95% das amostras da classe 1.\n",
    "\n",
    "    F1-score: O F1-score é a média harmônica entre precisão e revocação. Ele fornece uma única medida que equilibra a precisão e a revocação. Quanto mais próximo de 1, melhor o desempenho do modelo. Para a classe 0, o F1-score é 0.98, e para a classe 1, é 0.97.\n",
    "\n",
    "    Support: O suporte é o número de ocorrências reais de cada classe no conjunto de dados de teste. Neste caso, há 3904 exemplos da classe 0 e 2218 exemplos da classe 1.\n",
    "\n",
    "    Accuracy (Acurácia): A acurácia é a proporção de exemplos classificados corretamente em relação ao total de exemplos no conjunto de dados de teste. Em outras palavras, é a habilidade geral do modelo de classificar corretamente os exemplos. Neste caso, a acurácia é 0.98, o que significa que o modelo classificou corretamente 98% dos exemplos no conjunto de dados de teste.\n",
    "\n",
    "    Macro avg e weighted avg: São as médias das métricas para todas as classes. No caso da macro avg, calcula-se a média sem levar em consideração o desequilíbrio das classes, enquanto na weighted avg, as classes são ponderadas de acordo com o número de exemplos de cada uma."
   ]
  },
  {
   "cell_type": "markdown",
   "id": "ii-yNogsdmBM",
   "metadata": {
    "id": "ii-yNogsdmBM"
   },
   "source": [
    "### Matriz Esparsa x Matriz Densa"
   ]
  },
  {
   "cell_type": "markdown",
   "id": "Wy47PSz7dqDZ",
   "metadata": {
    "id": "Wy47PSz7dqDZ"
   },
   "source": [
    "No contexto de processamento de dados, como na vetorização TF-IDF em análise de texto, as matrizes esparsas e densas se referem a diferentes formas de representar dados tabulares, como uma matriz de termos e documentos.\n",
    "\n",
    "    Matriz Esparsa:\n",
    "        Uma matriz esparsa é aquela em que a maioria dos elementos é zero. Isso é comum em conjuntos de dados onde muitos elementos são irrelevantes ou ausentes. Em NLP, por exemplo, ao vetorizar um grande corpus de texto usando TF-IDF, muitas palavras podem estar ausentes em cada documento, resultando em uma matriz com muitos zeros. As estruturas de dados de matriz esparsa, como CSR (Compressed Sparse Row), CSC (Compressed Sparse Column) ou LIL (Lista de Listas), armazenam apenas os valores diferentes de zero e suas posições, economizando memória.\n",
    "    Matriz Densa:\n",
    "        Por outro lado, uma matriz densa é aquela em que a maioria dos elementos tem valores diferentes de zero. Todas as entradas são armazenadas, independentemente de serem zeros ou não. Matrizes densas são eficientes para operações matriciais e são usadas em muitos algoritmos de aprendizado de máquina. No entanto, elas podem consumir uma quantidade significativa de memória, especialmente para conjuntos de dados grandes.\n",
    "\n",
    "A diferença fundamental entre as duas é a quantidade de memória necessária para armazenar os dados. As matrizes esparsas são mais eficientes em termos de memória quando a maioria dos elementos é zero, enquanto as matrizes densas são mais simples de manipular e podem ser mais eficientes em termos de desempenho para operações matriciais quando a maioria dos elementos é diferente de zero.\n",
    "\n",
    "Ao trabalhar com algoritmos que suportam matrizes esparsas, como muitos algoritmos de aprendizado de máquina implementados em bibliotecas como scikit-learn, é preferível usar matrizes esparsas sempre que possível, especialmente em conjuntos de dados grandes e/ou de alta dimensionalidade, para economizar memória e melhorar o desempenho."
   ]
  },
  {
   "cell_type": "markdown",
   "id": "77_8cHc2oTxM",
   "metadata": {
    "id": "77_8cHc2oTxM"
   },
   "source": [
    "### Redução de Dimensionalidade"
   ]
  },
  {
   "cell_type": "markdown",
   "id": "hNLj2cdGoYyD",
   "metadata": {
    "id": "hNLj2cdGoYyD"
   },
   "source": [
    "Redução de dimensionalidade é uma técnica utilizada para reduzir o número de características (ou dimensões) nos seus dados enquanto preserva o máximo de informação possível. Duas técnicas comuns para redução de dimensionalidade são a Análise de Componentes Principais (PCA) e a seleção de características.\n",
    "\n",
    "1. Análise de Componentes Principais (PCA):\n",
    "  * O PCA é uma técnica de redução de dimensionalidade que transforma os seus dados em um novo conjunto de coordenadas, onde as novas características (componentes principais) são combinações lineares das características originais. As componentes principais são ordenadas em ordem de importância, onde a primeira componente principal captura a maior variância nos dados, a segunda componente principal captura a segunda maior variância, e assim por diante.\n",
    "  * Durante o treinamento do PCA, as componentes principais são calculadas a partir da matriz de covariância dos seus dados. Você pode escolher o número de componentes principais que deseja manter com base na quantidade de variância que deseja preservar nos dados.\n",
    "  * O PCA é útil para reduzir a dimensionalidade dos dados, especialmente quando existem muitas características correlacionadas ou redundantes. Ele pode ajudar a simplificar a modelagem, reduzir o tempo de treinamento e evitar problemas como a maldição da dimensionalidade.\n",
    "\n",
    "2. Seleção de Características:\n",
    "  * A seleção de características é outra técnica de redução de dimensionalidade que envolve a seleção de um subconjunto das características originais do seu conjunto de dados. Isso pode ser feito manualmente, com base no conhecimento especializado sobre o domínio do problema, ou automaticamente, utilizando métodos estatísticos, heurísticas ou algoritmos de aprendizado de máquina.\n",
    "  * Existem várias abordagens para selecionar características, incluindo métodos baseados em importância de características (como árvores de decisão ou Random Forests), métodos de filtragem que calculam estatísticas para cada característica individualmente, e métodos de wrapper que usam algoritmos de aprendizado de máquina para avaliar subconjuntos de características."
   ]
  },
  {
   "cell_type": "markdown",
   "id": "lQfK1q2MnLod",
   "metadata": {
    "id": "lQfK1q2MnLod"
   },
   "source": [
    "### TF-IDF e a Normalização"
   ]
  },
  {
   "cell_type": "markdown",
   "id": "J0U5hZyDnSQf",
   "metadata": {
    "id": "J0U5hZyDnSQf"
   },
   "source": [
    "Sim, o TF-IDF (Term Frequency-Inverse Document Frequency) normaliza os valores dos termos nos documentos. Vamos entender como isso acontece:\n",
    "\n",
    "* TF (Term Frequency): O TF mede a frequência de um termo em um documento. Ele é calculado dividindo o número de vezes que um termo aparece em um documento pelo número total de termos no documento. Isso normaliza a contagem de termos pelo comprimento do documento, o que ajuda a lidar com variações no tamanho dos documentos.\n",
    "\n",
    "* IDF (Inverse Document Frequency): O IDF mede a raridade de um termo em um conjunto de documentos. Ele é calculado como o logaritmo do inverso da frequência do termo em todos os documentos. O IDF penaliza termos que aparecem em muitos documentos, dando maior peso aos termos que são mais exclusivos e informativos.\n",
    "\n",
    "* Multiplicação TF-IDF: O valor TF-IDF de um termo em um documento é obtido multiplicando o TF pelo IDF correspondente. Isso significa que termos que ocorrem com frequência em um documento específico (alto TF) e são raros em outros documentos (alto IDF) terão um valor TF-IDF mais alto.\n",
    "\n",
    "Essa multiplicação TF-IDF resulta em valores normalizados para cada termo em relação ao documento e ao conjunto de documentos. Portanto, os valores TF-IDF geralmente são considerados como medidas de importância relativa dos termos nos documentos, levando em conta tanto a frequência local (TF) quanto a raridade global (IDF) dos termos."
   ]
  },
  {
   "cell_type": "markdown",
   "id": "-5MTwlOrimkZ",
   "metadata": {
    "id": "-5MTwlOrimkZ"
   },
   "source": [
    "# Extras / Anotações de Códigos"
   ]
  },
  {
   "cell_type": "markdown",
   "id": "8ZQR4un7is9Y",
   "metadata": {
    "id": "8ZQR4un7is9Y"
   },
   "source": [
    "### Matriz dos TF-IDF e em forma de array"
   ]
  },
  {
   "cell_type": "code",
   "execution_count": 3,
   "id": "9YoIjg0LjDn3",
   "metadata": {
    "id": "9YoIjg0LjDn3"
   },
   "outputs": [],
   "source": [
    "#MATRIZ TF-IDF\n",
    "\n",
    "#vectorizer = TfidfVectorizer(use_idf=True)\n",
    "#X_vectorizer = vectorizer.fit_transform(X)\n",
    "#print(X_vectorizer.toarray())\n",
    "#feature_names = vectorizer.get_feature_names_out()\n",
    "#df = pd.DataFrame(X_vectorizer.todense(), columns=feature_names)\n",
    "#display(df)"
   ]
  },
  {
   "cell_type": "code",
   "execution_count": 4,
   "id": "9OWHDReBjGeF",
   "metadata": {
    "id": "9OWHDReBjGeF"
   },
   "outputs": [],
   "source": [
    "#ARRAY TF-IDF\n",
    "\n",
    "#print(X_vectorizer.todense())\n",
    "#print(type(X_vectorizer.todense()))\n",
    "#X_dense = np.asarray(X_vectorizer.todense())\n",
    "#print(type(X_dense))"
   ]
  },
  {
   "cell_type": "markdown",
   "id": "0f92e8d6-6ef2-466b-aac4-da2fead0b2f4",
   "metadata": {
    "id": "0f92e8d6-6ef2-466b-aac4-da2fead0b2f4"
   },
   "source": [
    "# Limpeza dos Dados"
   ]
  },
  {
   "cell_type": "code",
   "execution_count": 5,
   "id": "d34bfb37-79c4-469b-a26e-5bbe44f75114",
   "metadata": {
    "id": "d34bfb37-79c4-469b-a26e-5bbe44f75114"
   },
   "outputs": [],
   "source": [
    "df = pd.read_csv('SQLiV3.csv', encoding='utf-8')"
   ]
  },
  {
   "cell_type": "code",
   "execution_count": 6,
   "id": "afc0d25e-3871-4ee0-8a22-ff2190399f68",
   "metadata": {
    "colab": {
     "base_uri": "https://localhost:8080/",
     "height": 424
    },
    "executionInfo": {
     "elapsed": 12,
     "status": "ok",
     "timestamp": 1718678312456,
     "user": {
      "displayName": "teste colab",
      "userId": "02534551529574613489"
     },
     "user_tz": 180
    },
    "id": "afc0d25e-3871-4ee0-8a22-ff2190399f68",
    "outputId": "54a84e4e-5b71-419f-c780-cb1f6191dd6a",
    "scrolled": true
   },
   "outputs": [
    {
     "data": {
      "text/html": [
       "<div>\n",
       "<style scoped>\n",
       "    .dataframe tbody tr th:only-of-type {\n",
       "        vertical-align: middle;\n",
       "    }\n",
       "\n",
       "    .dataframe tbody tr th {\n",
       "        vertical-align: top;\n",
       "    }\n",
       "\n",
       "    .dataframe thead th {\n",
       "        text-align: right;\n",
       "    }\n",
       "</style>\n",
       "<table border=\"1\" class=\"dataframe\">\n",
       "  <thead>\n",
       "    <tr style=\"text-align: right;\">\n",
       "      <th></th>\n",
       "      <th>Sentence</th>\n",
       "      <th>Label</th>\n",
       "      <th>Unnamed: 2</th>\n",
       "      <th>Unnamed: 3</th>\n",
       "    </tr>\n",
       "  </thead>\n",
       "  <tbody>\n",
       "    <tr>\n",
       "      <th>0</th>\n",
       "      <td>\" or pg_sleep  (  __TIME__  )  --</td>\n",
       "      <td>1</td>\n",
       "      <td>NaN</td>\n",
       "      <td>NaN</td>\n",
       "    </tr>\n",
       "    <tr>\n",
       "      <th>1</th>\n",
       "      <td>create user name identified by pass123 tempora...</td>\n",
       "      <td>NaN</td>\n",
       "      <td>1</td>\n",
       "      <td>NaN</td>\n",
       "    </tr>\n",
       "    <tr>\n",
       "      <th>2</th>\n",
       "      <td>AND 1  =  utl_inaddr.get_host_address   (    ...</td>\n",
       "      <td>1</td>\n",
       "      <td>NaN</td>\n",
       "      <td>NaN</td>\n",
       "    </tr>\n",
       "    <tr>\n",
       "      <th>3</th>\n",
       "      <td>select * from users where id  =  '1' or @ @1 ...</td>\n",
       "      <td>1</td>\n",
       "      <td>NaN</td>\n",
       "      <td>NaN</td>\n",
       "    </tr>\n",
       "    <tr>\n",
       "      <th>4</th>\n",
       "      <td>select * from users where id  =  1 or 1#\"  ( ...</td>\n",
       "      <td>1</td>\n",
       "      <td>NaN</td>\n",
       "      <td>NaN</td>\n",
       "    </tr>\n",
       "    <tr>\n",
       "      <th>...</th>\n",
       "      <td>...</td>\n",
       "      <td>...</td>\n",
       "      <td>...</td>\n",
       "      <td>...</td>\n",
       "    </tr>\n",
       "    <tr>\n",
       "      <th>30914</th>\n",
       "      <td>DELETE FROM door WHERE grow = 'small'</td>\n",
       "      <td>0</td>\n",
       "      <td>NaN</td>\n",
       "      <td>NaN</td>\n",
       "    </tr>\n",
       "    <tr>\n",
       "      <th>30915</th>\n",
       "      <td>DELETE FROM tomorrow</td>\n",
       "      <td>0</td>\n",
       "      <td>NaN</td>\n",
       "      <td>NaN</td>\n",
       "    </tr>\n",
       "    <tr>\n",
       "      <th>30916</th>\n",
       "      <td>SELECT wide ( s )  FROM west</td>\n",
       "      <td>0</td>\n",
       "      <td>NaN</td>\n",
       "      <td>NaN</td>\n",
       "    </tr>\n",
       "    <tr>\n",
       "      <th>30917</th>\n",
       "      <td>SELECT * FROM  ( SELECT slide FROM breath )</td>\n",
       "      <td>0</td>\n",
       "      <td>NaN</td>\n",
       "      <td>NaN</td>\n",
       "    </tr>\n",
       "    <tr>\n",
       "      <th>30918</th>\n",
       "      <td>SELECT TOP 3 * FROM race</td>\n",
       "      <td>0</td>\n",
       "      <td>NaN</td>\n",
       "      <td>NaN</td>\n",
       "    </tr>\n",
       "  </tbody>\n",
       "</table>\n",
       "<p>30919 rows × 4 columns</p>\n",
       "</div>"
      ],
      "text/plain": [
       "                                                Sentence Label Unnamed: 2  \\\n",
       "0                      \" or pg_sleep  (  __TIME__  )  --     1        NaN   \n",
       "1      create user name identified by pass123 tempora...   NaN          1   \n",
       "2       AND 1  =  utl_inaddr.get_host_address   (    ...     1        NaN   \n",
       "3       select * from users where id  =  '1' or @ @1 ...     1        NaN   \n",
       "4       select * from users where id  =  1 or 1#\"  ( ...     1        NaN   \n",
       "...                                                  ...   ...        ...   \n",
       "30914              DELETE FROM door WHERE grow = 'small'     0        NaN   \n",
       "30915                               DELETE FROM tomorrow     0        NaN   \n",
       "30916                       SELECT wide ( s )  FROM west     0        NaN   \n",
       "30917       SELECT * FROM  ( SELECT slide FROM breath )      0        NaN   \n",
       "30918                           SELECT TOP 3 * FROM race     0        NaN   \n",
       "\n",
       "       Unnamed: 3  \n",
       "0             NaN  \n",
       "1             NaN  \n",
       "2             NaN  \n",
       "3             NaN  \n",
       "4             NaN  \n",
       "...           ...  \n",
       "30914         NaN  \n",
       "30915         NaN  \n",
       "30916         NaN  \n",
       "30917         NaN  \n",
       "30918         NaN  \n",
       "\n",
       "[30919 rows x 4 columns]"
      ]
     },
     "metadata": {},
     "output_type": "display_data"
    }
   ],
   "source": [
    "display(df)"
   ]
  },
  {
   "cell_type": "code",
   "execution_count": 7,
   "id": "f3919d95-5438-4609-852e-dd8ae1f35429",
   "metadata": {
    "colab": {
     "base_uri": "https://localhost:8080/",
     "height": 424
    },
    "executionInfo": {
     "elapsed": 11,
     "status": "ok",
     "timestamp": 1718678312457,
     "user": {
      "displayName": "teste colab",
      "userId": "02534551529574613489"
     },
     "user_tz": 180
    },
    "id": "f3919d95-5438-4609-852e-dd8ae1f35429",
    "outputId": "d76c67d1-79ad-4981-df6c-ac01dd61081e",
    "scrolled": true
   },
   "outputs": [
    {
     "data": {
      "text/html": [
       "<div>\n",
       "<style scoped>\n",
       "    .dataframe tbody tr th:only-of-type {\n",
       "        vertical-align: middle;\n",
       "    }\n",
       "\n",
       "    .dataframe tbody tr th {\n",
       "        vertical-align: top;\n",
       "    }\n",
       "\n",
       "    .dataframe thead th {\n",
       "        text-align: right;\n",
       "    }\n",
       "</style>\n",
       "<table border=\"1\" class=\"dataframe\">\n",
       "  <thead>\n",
       "    <tr style=\"text-align: right;\">\n",
       "      <th></th>\n",
       "      <th>Sentence</th>\n",
       "      <th>Label</th>\n",
       "    </tr>\n",
       "  </thead>\n",
       "  <tbody>\n",
       "    <tr>\n",
       "      <th>0</th>\n",
       "      <td>\" or pg_sleep  (  __TIME__  )  --</td>\n",
       "      <td>1</td>\n",
       "    </tr>\n",
       "    <tr>\n",
       "      <th>1</th>\n",
       "      <td>create user name identified by pass123 tempora...</td>\n",
       "      <td>NaN</td>\n",
       "    </tr>\n",
       "    <tr>\n",
       "      <th>2</th>\n",
       "      <td>AND 1  =  utl_inaddr.get_host_address   (    ...</td>\n",
       "      <td>1</td>\n",
       "    </tr>\n",
       "    <tr>\n",
       "      <th>3</th>\n",
       "      <td>select * from users where id  =  '1' or @ @1 ...</td>\n",
       "      <td>1</td>\n",
       "    </tr>\n",
       "    <tr>\n",
       "      <th>4</th>\n",
       "      <td>select * from users where id  =  1 or 1#\"  ( ...</td>\n",
       "      <td>1</td>\n",
       "    </tr>\n",
       "    <tr>\n",
       "      <th>...</th>\n",
       "      <td>...</td>\n",
       "      <td>...</td>\n",
       "    </tr>\n",
       "    <tr>\n",
       "      <th>30914</th>\n",
       "      <td>DELETE FROM door WHERE grow = 'small'</td>\n",
       "      <td>0</td>\n",
       "    </tr>\n",
       "    <tr>\n",
       "      <th>30915</th>\n",
       "      <td>DELETE FROM tomorrow</td>\n",
       "      <td>0</td>\n",
       "    </tr>\n",
       "    <tr>\n",
       "      <th>30916</th>\n",
       "      <td>SELECT wide ( s )  FROM west</td>\n",
       "      <td>0</td>\n",
       "    </tr>\n",
       "    <tr>\n",
       "      <th>30917</th>\n",
       "      <td>SELECT * FROM  ( SELECT slide FROM breath )</td>\n",
       "      <td>0</td>\n",
       "    </tr>\n",
       "    <tr>\n",
       "      <th>30918</th>\n",
       "      <td>SELECT TOP 3 * FROM race</td>\n",
       "      <td>0</td>\n",
       "    </tr>\n",
       "  </tbody>\n",
       "</table>\n",
       "<p>30919 rows × 2 columns</p>\n",
       "</div>"
      ],
      "text/plain": [
       "                                                Sentence Label\n",
       "0                      \" or pg_sleep  (  __TIME__  )  --     1\n",
       "1      create user name identified by pass123 tempora...   NaN\n",
       "2       AND 1  =  utl_inaddr.get_host_address   (    ...     1\n",
       "3       select * from users where id  =  '1' or @ @1 ...     1\n",
       "4       select * from users where id  =  1 or 1#\"  ( ...     1\n",
       "...                                                  ...   ...\n",
       "30914              DELETE FROM door WHERE grow = 'small'     0\n",
       "30915                               DELETE FROM tomorrow     0\n",
       "30916                       SELECT wide ( s )  FROM west     0\n",
       "30917       SELECT * FROM  ( SELECT slide FROM breath )      0\n",
       "30918                           SELECT TOP 3 * FROM race     0\n",
       "\n",
       "[30919 rows x 2 columns]"
      ]
     },
     "metadata": {},
     "output_type": "display_data"
    }
   ],
   "source": [
    "df = df.drop(columns=['Unnamed: 2','Unnamed: 3'])\n",
    "display(df)"
   ]
  },
  {
   "cell_type": "code",
   "execution_count": 8,
   "id": "7b5c9030-6e8b-4a0f-84d0-4fcd192a558b",
   "metadata": {
    "colab": {
     "base_uri": "https://localhost:8080/",
     "height": 175
    },
    "executionInfo": {
     "elapsed": 424,
     "status": "ok",
     "timestamp": 1718678312872,
     "user": {
      "displayName": "teste colab",
      "userId": "02534551529574613489"
     },
     "user_tz": 180
    },
    "id": "7b5c9030-6e8b-4a0f-84d0-4fcd192a558b",
    "outputId": "3902f078-b216-46d4-9b94-6c1de2d16fc8"
   },
   "outputs": [
    {
     "data": {
      "text/html": [
       "<div>\n",
       "<style scoped>\n",
       "    .dataframe tbody tr th:only-of-type {\n",
       "        vertical-align: middle;\n",
       "    }\n",
       "\n",
       "    .dataframe tbody tr th {\n",
       "        vertical-align: top;\n",
       "    }\n",
       "\n",
       "    .dataframe thead th {\n",
       "        text-align: right;\n",
       "    }\n",
       "</style>\n",
       "<table border=\"1\" class=\"dataframe\">\n",
       "  <thead>\n",
       "    <tr style=\"text-align: right;\">\n",
       "      <th></th>\n",
       "      <th>Sentence</th>\n",
       "      <th>Label</th>\n",
       "    </tr>\n",
       "  </thead>\n",
       "  <tbody>\n",
       "    <tr>\n",
       "      <th>count</th>\n",
       "      <td>30904</td>\n",
       "      <td>30664</td>\n",
       "    </tr>\n",
       "    <tr>\n",
       "      <th>unique</th>\n",
       "      <td>30872</td>\n",
       "      <td>42</td>\n",
       "    </tr>\n",
       "    <tr>\n",
       "      <th>top</th>\n",
       "      <td>#NAME?</td>\n",
       "      <td>0</td>\n",
       "    </tr>\n",
       "    <tr>\n",
       "      <th>freq</th>\n",
       "      <td>8</td>\n",
       "      <td>19268</td>\n",
       "    </tr>\n",
       "  </tbody>\n",
       "</table>\n",
       "</div>"
      ],
      "text/plain": [
       "       Sentence  Label\n",
       "count     30904  30664\n",
       "unique    30872     42\n",
       "top      #NAME?      0\n",
       "freq          8  19268"
      ]
     },
     "execution_count": 8,
     "metadata": {},
     "output_type": "execute_result"
    }
   ],
   "source": [
    "df.describe()"
   ]
  },
  {
   "cell_type": "code",
   "execution_count": 9,
   "id": "246b5c79-da48-4a53-9f7b-b4afd34c62e4",
   "metadata": {
    "colab": {
     "base_uri": "https://localhost:8080/"
    },
    "executionInfo": {
     "elapsed": 31,
     "status": "ok",
     "timestamp": 1718678312874,
     "user": {
      "displayName": "teste colab",
      "userId": "02534551529574613489"
     },
     "user_tz": 180
    },
    "id": "246b5c79-da48-4a53-9f7b-b4afd34c62e4",
    "outputId": "f34651f4-57c4-4e67-92d1-28c0f025c0b8"
   },
   "outputs": [
    {
     "data": {
      "text/plain": [
       "255"
      ]
     },
     "execution_count": 9,
     "metadata": {},
     "output_type": "execute_result"
    }
   ],
   "source": [
    "df['Label'].isna().sum()"
   ]
  },
  {
   "cell_type": "code",
   "execution_count": 10,
   "id": "40a47972-3f13-4f0f-a909-65be7d79d779",
   "metadata": {
    "colab": {
     "base_uri": "https://localhost:8080/"
    },
    "executionInfo": {
     "elapsed": 28,
     "status": "ok",
     "timestamp": 1718678312874,
     "user": {
      "displayName": "teste colab",
      "userId": "02534551529574613489"
     },
     "user_tz": 180
    },
    "id": "40a47972-3f13-4f0f-a909-65be7d79d779",
    "outputId": "c55ae8b1-2e5c-4908-ea45-53894d8f9bbc"
   },
   "outputs": [
    {
     "data": {
      "text/plain": [
       "0"
      ]
     },
     "execution_count": 10,
     "metadata": {},
     "output_type": "execute_result"
    }
   ],
   "source": [
    "df = df.dropna()\n",
    "df['Label'].isna().sum()"
   ]
  },
  {
   "cell_type": "code",
   "execution_count": 11,
   "id": "f8e63f30-1143-4c3e-ad05-d09023a6406b",
   "metadata": {
    "colab": {
     "base_uri": "https://localhost:8080/",
     "height": 175
    },
    "executionInfo": {
     "elapsed": 26,
     "status": "ok",
     "timestamp": 1718678312874,
     "user": {
      "displayName": "teste colab",
      "userId": "02534551529574613489"
     },
     "user_tz": 180
    },
    "id": "f8e63f30-1143-4c3e-ad05-d09023a6406b",
    "outputId": "3a81b4bd-d780-4b13-c221-d42ce944c155"
   },
   "outputs": [
    {
     "data": {
      "text/html": [
       "<div>\n",
       "<style scoped>\n",
       "    .dataframe tbody tr th:only-of-type {\n",
       "        vertical-align: middle;\n",
       "    }\n",
       "\n",
       "    .dataframe tbody tr th {\n",
       "        vertical-align: top;\n",
       "    }\n",
       "\n",
       "    .dataframe thead th {\n",
       "        text-align: right;\n",
       "    }\n",
       "</style>\n",
       "<table border=\"1\" class=\"dataframe\">\n",
       "  <thead>\n",
       "    <tr style=\"text-align: right;\">\n",
       "      <th></th>\n",
       "      <th>Sentence</th>\n",
       "      <th>Label</th>\n",
       "    </tr>\n",
       "  </thead>\n",
       "  <tbody>\n",
       "    <tr>\n",
       "      <th>count</th>\n",
       "      <td>30649</td>\n",
       "      <td>30649</td>\n",
       "    </tr>\n",
       "    <tr>\n",
       "      <th>unique</th>\n",
       "      <td>30627</td>\n",
       "      <td>28</td>\n",
       "    </tr>\n",
       "    <tr>\n",
       "      <th>top</th>\n",
       "      <td>#NAME?</td>\n",
       "      <td>0</td>\n",
       "    </tr>\n",
       "    <tr>\n",
       "      <th>freq</th>\n",
       "      <td>8</td>\n",
       "      <td>19268</td>\n",
       "    </tr>\n",
       "  </tbody>\n",
       "</table>\n",
       "</div>"
      ],
      "text/plain": [
       "       Sentence  Label\n",
       "count     30649  30649\n",
       "unique    30627     28\n",
       "top      #NAME?      0\n",
       "freq          8  19268"
      ]
     },
     "execution_count": 11,
     "metadata": {},
     "output_type": "execute_result"
    }
   ],
   "source": [
    "df.describe()"
   ]
  },
  {
   "cell_type": "code",
   "execution_count": 12,
   "id": "0d11570c-ba3e-410c-bb19-c712fc7dca46",
   "metadata": {
    "colab": {
     "base_uri": "https://localhost:8080/",
     "height": 424
    },
    "executionInfo": {
     "elapsed": 24,
     "status": "ok",
     "timestamp": 1718678312874,
     "user": {
      "displayName": "teste colab",
      "userId": "02534551529574613489"
     },
     "user_tz": 180
    },
    "id": "0d11570c-ba3e-410c-bb19-c712fc7dca46",
    "outputId": "964ed586-0911-4c99-edaf-106b32b26132",
    "scrolled": true
   },
   "outputs": [
    {
     "data": {
      "text/html": [
       "<div>\n",
       "<style scoped>\n",
       "    .dataframe tbody tr th:only-of-type {\n",
       "        vertical-align: middle;\n",
       "    }\n",
       "\n",
       "    .dataframe tbody tr th {\n",
       "        vertical-align: top;\n",
       "    }\n",
       "\n",
       "    .dataframe thead th {\n",
       "        text-align: right;\n",
       "    }\n",
       "</style>\n",
       "<table border=\"1\" class=\"dataframe\">\n",
       "  <thead>\n",
       "    <tr style=\"text-align: right;\">\n",
       "      <th></th>\n",
       "      <th>Sentence</th>\n",
       "      <th>Label</th>\n",
       "    </tr>\n",
       "  </thead>\n",
       "  <tbody>\n",
       "    <tr>\n",
       "      <th>0</th>\n",
       "      <td>\" or pg_sleep  (  __TIME__  )  --</td>\n",
       "      <td>1</td>\n",
       "    </tr>\n",
       "    <tr>\n",
       "      <th>2</th>\n",
       "      <td>AND 1  =  utl_inaddr.get_host_address   (    ...</td>\n",
       "      <td>1</td>\n",
       "    </tr>\n",
       "    <tr>\n",
       "      <th>3</th>\n",
       "      <td>select * from users where id  =  '1' or @ @1 ...</td>\n",
       "      <td>1</td>\n",
       "    </tr>\n",
       "    <tr>\n",
       "      <th>4</th>\n",
       "      <td>select * from users where id  =  1 or 1#\"  ( ...</td>\n",
       "      <td>1</td>\n",
       "    </tr>\n",
       "    <tr>\n",
       "      <th>5</th>\n",
       "      <td>select name from syscolumns where id   =     ...</td>\n",
       "      <td>1</td>\n",
       "    </tr>\n",
       "    <tr>\n",
       "      <th>...</th>\n",
       "      <td>...</td>\n",
       "      <td>...</td>\n",
       "    </tr>\n",
       "    <tr>\n",
       "      <th>30914</th>\n",
       "      <td>DELETE FROM door WHERE grow = 'small'</td>\n",
       "      <td>0</td>\n",
       "    </tr>\n",
       "    <tr>\n",
       "      <th>30915</th>\n",
       "      <td>DELETE FROM tomorrow</td>\n",
       "      <td>0</td>\n",
       "    </tr>\n",
       "    <tr>\n",
       "      <th>30916</th>\n",
       "      <td>SELECT wide ( s )  FROM west</td>\n",
       "      <td>0</td>\n",
       "    </tr>\n",
       "    <tr>\n",
       "      <th>30917</th>\n",
       "      <td>SELECT * FROM  ( SELECT slide FROM breath )</td>\n",
       "      <td>0</td>\n",
       "    </tr>\n",
       "    <tr>\n",
       "      <th>30918</th>\n",
       "      <td>SELECT TOP 3 * FROM race</td>\n",
       "      <td>0</td>\n",
       "    </tr>\n",
       "  </tbody>\n",
       "</table>\n",
       "<p>30649 rows × 2 columns</p>\n",
       "</div>"
      ],
      "text/plain": [
       "                                                Sentence Label\n",
       "0                      \" or pg_sleep  (  __TIME__  )  --     1\n",
       "2       AND 1  =  utl_inaddr.get_host_address   (    ...     1\n",
       "3       select * from users where id  =  '1' or @ @1 ...     1\n",
       "4       select * from users where id  =  1 or 1#\"  ( ...     1\n",
       "5       select name from syscolumns where id   =     ...     1\n",
       "...                                                  ...   ...\n",
       "30914              DELETE FROM door WHERE grow = 'small'     0\n",
       "30915                               DELETE FROM tomorrow     0\n",
       "30916                       SELECT wide ( s )  FROM west     0\n",
       "30917       SELECT * FROM  ( SELECT slide FROM breath )      0\n",
       "30918                           SELECT TOP 3 * FROM race     0\n",
       "\n",
       "[30649 rows x 2 columns]"
      ]
     },
     "metadata": {},
     "output_type": "display_data"
    }
   ],
   "source": [
    "display(df)"
   ]
  },
  {
   "cell_type": "code",
   "execution_count": 13,
   "id": "bf7930ec-b9f6-45d8-bcdc-250d674fd033",
   "metadata": {
    "id": "bf7930ec-b9f6-45d8-bcdc-250d674fd033",
    "scrolled": true
   },
   "outputs": [
    {
     "data": {
      "text/html": [
       "<div>\n",
       "<style scoped>\n",
       "    .dataframe tbody tr th:only-of-type {\n",
       "        vertical-align: middle;\n",
       "    }\n",
       "\n",
       "    .dataframe tbody tr th {\n",
       "        vertical-align: top;\n",
       "    }\n",
       "\n",
       "    .dataframe thead th {\n",
       "        text-align: right;\n",
       "    }\n",
       "</style>\n",
       "<table border=\"1\" class=\"dataframe\">\n",
       "  <thead>\n",
       "    <tr style=\"text-align: right;\">\n",
       "      <th></th>\n",
       "      <th>Sentence</th>\n",
       "      <th>Label</th>\n",
       "    </tr>\n",
       "  </thead>\n",
       "  <tbody>\n",
       "    <tr>\n",
       "      <th>193</th>\n",
       "      <td>1</td>\n",
       "      <td>SELECT *</td>\n",
       "    </tr>\n",
       "    <tr>\n",
       "      <th>195</th>\n",
       "      <td>x' and 1  =    (  select count  (  *  )   from...</td>\n",
       "      <td>--</td>\n",
       "    </tr>\n",
       "    <tr>\n",
       "      <th>204</th>\n",
       "      <td>\\'</td>\n",
       "      <td>desc users</td>\n",
       "    </tr>\n",
       "    <tr>\n",
       "      <th>251</th>\n",
       "      <td>23 or 1  =  1</td>\n",
       "      <td>--</td>\n",
       "    </tr>\n",
       "    <tr>\n",
       "      <th>264</th>\n",
       "      <td>&amp;apos</td>\n",
       "      <td>OR</td>\n",
       "    </tr>\n",
       "    <tr>\n",
       "      <th>362</th>\n",
       "      <td>x' AND userid IS NULL</td>\n",
       "      <td>--</td>\n",
       "    </tr>\n",
       "    <tr>\n",
       "      <th>377</th>\n",
       "      <td>x' and members.email is NULL</td>\n",
       "      <td>--</td>\n",
       "    </tr>\n",
       "    <tr>\n",
       "      <th>409</th>\n",
       "      <td>)    )</td>\n",
       "      <td>waitfor delay '0:0:__TIME__'--</td>\n",
       "    </tr>\n",
       "    <tr>\n",
       "      <th>420</th>\n",
       "      <td>1' and 1  =    (  select count  (  *  )   from...</td>\n",
       "      <td>--</td>\n",
       "    </tr>\n",
       "    <tr>\n",
       "      <th>447</th>\n",
       "      <td></td>\n",
       "      <td>drop table temp --</td>\n",
       "    </tr>\n",
       "    <tr>\n",
       "      <th>464</th>\n",
       "      <td>x' and userid is NULL</td>\n",
       "      <td>--</td>\n",
       "    </tr>\n",
       "    <tr>\n",
       "      <th>479</th>\n",
       "      <td>x' AND email IS NULL</td>\n",
       "      <td>--</td>\n",
       "    </tr>\n",
       "    <tr>\n",
       "      <th>539</th>\n",
       "      <td>)</td>\n",
       "      <td>waitfor delay '0:0:__TIME__'--</td>\n",
       "    </tr>\n",
       "    <tr>\n",
       "      <th>685</th>\n",
       "      <td>a' or 1  =  1</td>\n",
       "      <td>--</td>\n",
       "    </tr>\n",
       "    <tr>\n",
       "      <th>692</th>\n",
       "      <td>x' AND 1  =    (  SELECT COUNT  (  *  )   FROM...</td>\n",
       "      <td>--</td>\n",
       "    </tr>\n",
       "    <tr>\n",
       "      <th>723</th>\n",
       "      <td>x' and email is NULL</td>\n",
       "      <td>--</td>\n",
       "    </tr>\n",
       "    <tr>\n",
       "      <th>756</th>\n",
       "      <td>x' AND members.email IS NULL</td>\n",
       "      <td>--</td>\n",
       "    </tr>\n",
       "    <tr>\n",
       "      <th>871</th>\n",
       "      <td>)</td>\n",
       "      <td>waitfor delay '0:0:__TIME__'--</td>\n",
       "    </tr>\n",
       "    <tr>\n",
       "      <th>882</th>\n",
       "      <td>)    )</td>\n",
       "      <td>waitfor delay '0:0:__TIME__'--</td>\n",
       "    </tr>\n",
       "    <tr>\n",
       "      <th>19292</th>\n",
       "      <td>grant connect to name</td>\n",
       "      <td>grant resource to name</td>\n",
       "    </tr>\n",
       "    <tr>\n",
       "      <th>19897</th>\n",
       "      <td>SELECT * FROM Customers GO</td>\n",
       "      <td>EXEC SelectAllCustomers</td>\n",
       "    </tr>\n",
       "    <tr>\n",
       "      <th>19902</th>\n",
       "      <td>SELECT * FROM Products</td>\n",
       "      <td>/*Select all the columns of all the records i...</td>\n",
       "    </tr>\n",
       "    <tr>\n",
       "      <th>19906</th>\n",
       "      <td>SELECT * FROM Categories</td>\n",
       "      <td>*/</td>\n",
       "    </tr>\n",
       "    <tr>\n",
       "      <th>19914</th>\n",
       "      <td>SELECT * FROM [Brazil Customers]</td>\n",
       "      <td>CREATE VIEW [Products Above Average Price] AS</td>\n",
       "    </tr>\n",
       "    <tr>\n",
       "      <th>19917</th>\n",
       "      <td>SELECT * FROM [Products Above Average Price]</td>\n",
       "      <td>CREATE OR REPLACE VIEW view_name AS</td>\n",
       "    </tr>\n",
       "    <tr>\n",
       "      <th>19924</th>\n",
       "      <td>SELECT * FROM Users</td>\n",
       "      <td>DROP TABLE Suppliers</td>\n",
       "    </tr>\n",
       "    <tr>\n",
       "      <th>19925</th>\n",
       "      <td>SELECT * FROM Users WHERE UserId  =  105</td>\n",
       "      <td>DROP TABLE Suppliers</td>\n",
       "    </tr>\n",
       "    <tr>\n",
       "      <th>19936</th>\n",
       "      <td>SELECT * FROM [Brazil Customers]</td>\n",
       "      <td>CREATE PROCEDURE SelectAllCustomers AS</td>\n",
       "    </tr>\n",
       "    <tr>\n",
       "      <th>19937</th>\n",
       "      <td>SELECT * FROM Customers GO</td>\n",
       "      <td>EXEC SelectAllCustomers</td>\n",
       "    </tr>\n",
       "    <tr>\n",
       "      <th>19943</th>\n",
       "      <td>SELECT * FROM Customers</td>\n",
       "      <td>DELETE FROM Customers  WHERE CustomerName = '...</td>\n",
       "    </tr>\n",
       "    <tr>\n",
       "      <th>19948</th>\n",
       "      <td>SELECT * FROM [Brazil Customers]</td>\n",
       "      <td>CREATE OR REPLACE VIEW [Brazil Customers] AS</td>\n",
       "    </tr>\n",
       "    <tr>\n",
       "      <th>20307</th>\n",
       "      <td>SELECT TOP 3 * FROM Customers</td>\n",
       "      <td>SELECT * FROM CustomersLIMIT 3</td>\n",
       "    </tr>\n",
       "    <tr>\n",
       "      <th>20308</th>\n",
       "      <td>SELECT * FROM CustomersLIMIT 3</td>\n",
       "      <td>SELECT * FROM Customers</td>\n",
       "    </tr>\n",
       "    <tr>\n",
       "      <th>20309</th>\n",
       "      <td>SELECT * FROM CustomersFETCH FIRST 3 ROWS ONLY</td>\n",
       "      <td>SELECT TOP 50 PERCENT * FROM Customers</td>\n",
       "    </tr>\n",
       "    <tr>\n",
       "      <th>20310</th>\n",
       "      <td>SELECT TOP 50 PERCENT * FROM Customers</td>\n",
       "      <td>SELECT * FROM CustomersFETCH FIRST 50 PERCENT...</td>\n",
       "    </tr>\n",
       "    <tr>\n",
       "      <th>20311</th>\n",
       "      <td>SELECT * FROM CustomersFETCH FIRST 50 PERCENT ...</td>\n",
       "      <td>SELECT TOP 3 * FROM Customers</td>\n",
       "    </tr>\n",
       "    <tr>\n",
       "      <th>20312</th>\n",
       "      <td>SELECT TOP 3 * FROM CustomersWHERE Country = '...</td>\n",
       "      <td>SELECT * FROM Customers</td>\n",
       "    </tr>\n",
       "    <tr>\n",
       "      <th>20314</th>\n",
       "      <td>SELECT AVG ( Price ) FROM Products</td>\n",
       "      <td>SELECT SUM ( Quantity )</td>\n",
       "    </tr>\n",
       "    <tr>\n",
       "      <th>20344</th>\n",
       "      <td>SELECT column_name ( s )  FROM table2</td>\n",
       "      <td>SELECT column_name ( s )</td>\n",
       "    </tr>\n",
       "    <tr>\n",
       "      <th>20346</th>\n",
       "      <td>SELECT column_name ( s )  FROM table2</td>\n",
       "      <td>SELECT City FROM Customers</td>\n",
       "    </tr>\n",
       "  </tbody>\n",
       "</table>\n",
       "</div>"
      ],
      "text/plain": [
       "                                                Sentence  \\\n",
       "193                                                    1   \n",
       "195    x' and 1  =    (  select count  (  *  )   from...   \n",
       "204                                                   \\'   \n",
       "251                                        23 or 1  =  1   \n",
       "264                                                &apos   \n",
       "362                                x' AND userid IS NULL   \n",
       "377                         x' and members.email is NULL   \n",
       "409                                            )    )      \n",
       "420    1' and 1  =    (  select count  (  *  )   from...   \n",
       "447                                                        \n",
       "464                                x' and userid is NULL   \n",
       "479                                 x' AND email IS NULL   \n",
       "539                                                  )     \n",
       "685                                        a' or 1  =  1   \n",
       "692    x' AND 1  =    (  SELECT COUNT  (  *  )   FROM...   \n",
       "723                                 x' and email is NULL   \n",
       "756                         x' AND members.email IS NULL   \n",
       "871                                                  )     \n",
       "882                                            )    )      \n",
       "19292                              grant connect to name   \n",
       "19897                         SELECT * FROM Customers GO   \n",
       "19902                             SELECT * FROM Products   \n",
       "19906                           SELECT * FROM Categories   \n",
       "19914                   SELECT * FROM [Brazil Customers]   \n",
       "19917       SELECT * FROM [Products Above Average Price]   \n",
       "19924                                SELECT * FROM Users   \n",
       "19925           SELECT * FROM Users WHERE UserId  =  105   \n",
       "19936                   SELECT * FROM [Brazil Customers]   \n",
       "19937                         SELECT * FROM Customers GO   \n",
       "19943                            SELECT * FROM Customers   \n",
       "19948                   SELECT * FROM [Brazil Customers]   \n",
       "20307                      SELECT TOP 3 * FROM Customers   \n",
       "20308                     SELECT * FROM CustomersLIMIT 3   \n",
       "20309     SELECT * FROM CustomersFETCH FIRST 3 ROWS ONLY   \n",
       "20310             SELECT TOP 50 PERCENT * FROM Customers   \n",
       "20311  SELECT * FROM CustomersFETCH FIRST 50 PERCENT ...   \n",
       "20312  SELECT TOP 3 * FROM CustomersWHERE Country = '...   \n",
       "20314                 SELECT AVG ( Price ) FROM Products   \n",
       "20344              SELECT column_name ( s )  FROM table2   \n",
       "20346              SELECT column_name ( s )  FROM table2   \n",
       "\n",
       "                                                   Label  \n",
       "193                                             SELECT *  \n",
       "195                                                   --  \n",
       "204                                           desc users  \n",
       "251                                                   --  \n",
       "264                                                   OR  \n",
       "362                                                   --  \n",
       "377                                                   --  \n",
       "409                       waitfor delay '0:0:__TIME__'--  \n",
       "420                                                   --  \n",
       "447                                   drop table temp --  \n",
       "464                                                   --  \n",
       "479                                                   --  \n",
       "539                       waitfor delay '0:0:__TIME__'--  \n",
       "685                                                   --  \n",
       "692                                                   --  \n",
       "723                                                   --  \n",
       "756                                                   --  \n",
       "871                       waitfor delay '0:0:__TIME__'--  \n",
       "882                       waitfor delay '0:0:__TIME__'--  \n",
       "19292                             grant resource to name  \n",
       "19897                            EXEC SelectAllCustomers  \n",
       "19902   /*Select all the columns of all the records i...  \n",
       "19906                                                 */  \n",
       "19914      CREATE VIEW [Products Above Average Price] AS  \n",
       "19917                CREATE OR REPLACE VIEW view_name AS  \n",
       "19924                               DROP TABLE Suppliers  \n",
       "19925                               DROP TABLE Suppliers  \n",
       "19936             CREATE PROCEDURE SelectAllCustomers AS  \n",
       "19937                            EXEC SelectAllCustomers  \n",
       "19943   DELETE FROM Customers  WHERE CustomerName = '...  \n",
       "19948       CREATE OR REPLACE VIEW [Brazil Customers] AS  \n",
       "20307                     SELECT * FROM CustomersLIMIT 3  \n",
       "20308                            SELECT * FROM Customers  \n",
       "20309             SELECT TOP 50 PERCENT * FROM Customers  \n",
       "20310   SELECT * FROM CustomersFETCH FIRST 50 PERCENT...  \n",
       "20311                      SELECT TOP 3 * FROM Customers  \n",
       "20312                            SELECT * FROM Customers  \n",
       "20314                           SELECT SUM ( Quantity )   \n",
       "20344                          SELECT column_name ( s )   \n",
       "20346                         SELECT City FROM Customers  "
      ]
     },
     "execution_count": 13,
     "metadata": {},
     "output_type": "execute_result"
    }
   ],
   "source": [
    "df[~df['Label'].isin(['0', '1'])]"
   ]
  },
  {
   "cell_type": "code",
   "execution_count": 14,
   "id": "a577de6a-5d03-48bb-ad46-c3a3124830b6",
   "metadata": {
    "colab": {
     "base_uri": "https://localhost:8080/",
     "height": 424
    },
    "executionInfo": {
     "elapsed": 21,
     "status": "ok",
     "timestamp": 1718678312875,
     "user": {
      "displayName": "teste colab",
      "userId": "02534551529574613489"
     },
     "user_tz": 180
    },
    "id": "a577de6a-5d03-48bb-ad46-c3a3124830b6",
    "outputId": "74dadb67-3949-4eb3-f368-a2dffd2ed2ea"
   },
   "outputs": [
    {
     "data": {
      "text/html": [
       "<div>\n",
       "<style scoped>\n",
       "    .dataframe tbody tr th:only-of-type {\n",
       "        vertical-align: middle;\n",
       "    }\n",
       "\n",
       "    .dataframe tbody tr th {\n",
       "        vertical-align: top;\n",
       "    }\n",
       "\n",
       "    .dataframe thead th {\n",
       "        text-align: right;\n",
       "    }\n",
       "</style>\n",
       "<table border=\"1\" class=\"dataframe\">\n",
       "  <thead>\n",
       "    <tr style=\"text-align: right;\">\n",
       "      <th></th>\n",
       "      <th>Sentence</th>\n",
       "      <th>Label</th>\n",
       "    </tr>\n",
       "  </thead>\n",
       "  <tbody>\n",
       "    <tr>\n",
       "      <th>0</th>\n",
       "      <td>\" or pg_sleep  (  __TIME__  )  --</td>\n",
       "      <td>1</td>\n",
       "    </tr>\n",
       "    <tr>\n",
       "      <th>2</th>\n",
       "      <td>AND 1  =  utl_inaddr.get_host_address   (    ...</td>\n",
       "      <td>1</td>\n",
       "    </tr>\n",
       "    <tr>\n",
       "      <th>3</th>\n",
       "      <td>select * from users where id  =  '1' or @ @1 ...</td>\n",
       "      <td>1</td>\n",
       "    </tr>\n",
       "    <tr>\n",
       "      <th>4</th>\n",
       "      <td>select * from users where id  =  1 or 1#\"  ( ...</td>\n",
       "      <td>1</td>\n",
       "    </tr>\n",
       "    <tr>\n",
       "      <th>5</th>\n",
       "      <td>select name from syscolumns where id   =     ...</td>\n",
       "      <td>1</td>\n",
       "    </tr>\n",
       "    <tr>\n",
       "      <th>...</th>\n",
       "      <td>...</td>\n",
       "      <td>...</td>\n",
       "    </tr>\n",
       "    <tr>\n",
       "      <th>30914</th>\n",
       "      <td>DELETE FROM door WHERE grow = 'small'</td>\n",
       "      <td>0</td>\n",
       "    </tr>\n",
       "    <tr>\n",
       "      <th>30915</th>\n",
       "      <td>DELETE FROM tomorrow</td>\n",
       "      <td>0</td>\n",
       "    </tr>\n",
       "    <tr>\n",
       "      <th>30916</th>\n",
       "      <td>SELECT wide ( s )  FROM west</td>\n",
       "      <td>0</td>\n",
       "    </tr>\n",
       "    <tr>\n",
       "      <th>30917</th>\n",
       "      <td>SELECT * FROM  ( SELECT slide FROM breath )</td>\n",
       "      <td>0</td>\n",
       "    </tr>\n",
       "    <tr>\n",
       "      <th>30918</th>\n",
       "      <td>SELECT TOP 3 * FROM race</td>\n",
       "      <td>0</td>\n",
       "    </tr>\n",
       "  </tbody>\n",
       "</table>\n",
       "<p>30609 rows × 2 columns</p>\n",
       "</div>"
      ],
      "text/plain": [
       "                                                Sentence Label\n",
       "0                      \" or pg_sleep  (  __TIME__  )  --     1\n",
       "2       AND 1  =  utl_inaddr.get_host_address   (    ...     1\n",
       "3       select * from users where id  =  '1' or @ @1 ...     1\n",
       "4       select * from users where id  =  1 or 1#\"  ( ...     1\n",
       "5       select name from syscolumns where id   =     ...     1\n",
       "...                                                  ...   ...\n",
       "30914              DELETE FROM door WHERE grow = 'small'     0\n",
       "30915                               DELETE FROM tomorrow     0\n",
       "30916                       SELECT wide ( s )  FROM west     0\n",
       "30917       SELECT * FROM  ( SELECT slide FROM breath )      0\n",
       "30918                           SELECT TOP 3 * FROM race     0\n",
       "\n",
       "[30609 rows x 2 columns]"
      ]
     },
     "metadata": {},
     "output_type": "display_data"
    }
   ],
   "source": [
    "df = df[df['Label'].isin(['0', '1'])]\n",
    "display(df)"
   ]
  },
  {
   "cell_type": "code",
   "execution_count": 15,
   "id": "bebed015-1475-4f7d-adce-be4396c24ea0",
   "metadata": {
    "colab": {
     "base_uri": "https://localhost:8080/"
    },
    "executionInfo": {
     "elapsed": 20,
     "status": "ok",
     "timestamp": 1718678312875,
     "user": {
      "displayName": "teste colab",
      "userId": "02534551529574613489"
     },
     "user_tz": 180
    },
    "id": "bebed015-1475-4f7d-adce-be4396c24ea0",
    "outputId": "ce2d459a-1482-43f2-8399-73c9e59737a6"
   },
   "outputs": [
    {
     "name": "stdout",
     "output_type": "stream",
     "text": [
      "<class 'pandas.core.frame.DataFrame'>\n",
      "Index: 30609 entries, 0 to 30918\n",
      "Data columns (total 2 columns):\n",
      " #   Column    Non-Null Count  Dtype \n",
      "---  ------    --------------  ----- \n",
      " 0   Sentence  30609 non-null  object\n",
      " 1   Label     30609 non-null  object\n",
      "dtypes: object(2)\n",
      "memory usage: 717.4+ KB\n"
     ]
    }
   ],
   "source": [
    "df.info()"
   ]
  },
  {
   "cell_type": "code",
   "execution_count": 16,
   "id": "beacd917-6de2-4006-86bb-a6dd1b60cab1",
   "metadata": {
    "colab": {
     "base_uri": "https://localhost:8080/"
    },
    "executionInfo": {
     "elapsed": 19,
     "status": "ok",
     "timestamp": 1718678312875,
     "user": {
      "displayName": "teste colab",
      "userId": "02534551529574613489"
     },
     "user_tz": 180
    },
    "id": "beacd917-6de2-4006-86bb-a6dd1b60cab1",
    "outputId": "973cf16d-17a0-4e4c-9efe-8df581f635cf"
   },
   "outputs": [
    {
     "name": "stdout",
     "output_type": "stream",
     "text": [
      "<class 'pandas.core.frame.DataFrame'>\n",
      "Index: 30609 entries, 0 to 30918\n",
      "Data columns (total 2 columns):\n",
      " #   Column    Non-Null Count  Dtype \n",
      "---  ------    --------------  ----- \n",
      " 0   Sentence  30609 non-null  object\n",
      " 1   Label     30609 non-null  int64 \n",
      "dtypes: int64(1), object(1)\n",
      "memory usage: 717.4+ KB\n"
     ]
    }
   ],
   "source": [
    "df['Label'] = df['Label'].astype('int')\n",
    "df.info()"
   ]
  },
  {
   "cell_type": "code",
   "execution_count": 52,
   "id": "aa3439cc-9212-409c-b62b-f8d6947afbad",
   "metadata": {
    "colab": {
     "base_uri": "https://localhost:8080/",
     "height": 696
    },
    "executionInfo": {
     "elapsed": 776,
     "status": "ok",
     "timestamp": 1718678313633,
     "user": {
      "displayName": "teste colab",
      "userId": "02534551529574613489"
     },
     "user_tz": 180
    },
    "id": "aa3439cc-9212-409c-b62b-f8d6947afbad",
    "outputId": "9dd85c70-068d-4cc9-9bcc-d4d85d5a08d7"
   },
   "outputs": [
    {
     "data": {
      "image/png": "[encoded data removed]",
      "text/plain": [
       "<Figure size 640x480 with 1 Axes>"
      ]
     },
     "metadata": {},
     "output_type": "display_data"
    }
   ],
   "source": [
    "sns.countplot(x = 'Label', data=df, hue = 'Label', palette = 'viridis')\n",
    "plt.yticks(np.arange(0, 21000, 1000))\n",
    "plt.show()"
   ]
  },
  {
   "cell_type": "markdown",
   "id": "280ad18f-672e-4782-ab94-b8cfbe3f2afb",
   "metadata": {
    "id": "280ad18f-672e-4782-ab94-b8cfbe3f2afb"
   },
   "source": [
    "# Testes de Treinamento"
   ]
  },
  {
   "cell_type": "code",
   "execution_count": 18,
   "id": "31c22213-41cf-4363-96fb-a383fc9b0a85",
   "metadata": {
    "id": "31c22213-41cf-4363-96fb-a383fc9b0a85"
   },
   "outputs": [],
   "source": [
    "X = df['Sentence'].values\n",
    "y = df['Label'].values"
   ]
  },
  {
   "cell_type": "code",
   "execution_count": 19,
   "id": "b0935919-4cfa-4106-b811-76080953bbeb",
   "metadata": {
    "id": "b0935919-4cfa-4106-b811-76080953bbeb"
   },
   "outputs": [],
   "source": [
    "vectorizer = TfidfVectorizer(use_idf=True)\n",
    "X_vectorizer = vectorizer.fit_transform(X)\n",
    "\n",
    "#vectorizer = CountVectorizer(min_df = 100, max_df = 0.8, stop_words = 'english')\n",
    "#X_vectorizer = vectorizer.fit_transform(X)"
   ]
  },
  {
   "cell_type": "code",
   "execution_count": 20,
   "id": "lvlA3guZqeFE",
   "metadata": {
    "colab": {
     "base_uri": "https://localhost:8080/"
    },
    "executionInfo": {
     "elapsed": 17875,
     "status": "ok",
     "timestamp": 1718679027752,
     "user": {
      "displayName": "teste colab",
      "userId": "02534551529574613489"
     },
     "user_tz": 180
    },
    "id": "lvlA3guZqeFE",
    "outputId": "b1f986b0-1ee3-45cd-bf97-9c6ddedfa73d"
   },
   "outputs": [
    {
     "name": "stdout",
     "output_type": "stream",
     "text": [
      "Quantidade de 0s: 19268\n",
      "Quantidade de 1s: 11341\n",
      "\n",
      "Quantidade de 0s: 19268\n",
      "Quantidade de 1s: 19268\n"
     ]
    }
   ],
   "source": [
    "quantidades = np.bincount(y)\n",
    "\n",
    "print(\"Quantidade de 0s:\", quantidades[0])\n",
    "print(\"Quantidade de 1s:\", quantidades[1])\n",
    "\n",
    "smote = SMOTE(random_state=7)\n",
    "X_vectorizer, y = smote.fit_resample(X_vectorizer, y)\n",
    "\n",
    "quantidades = np.bincount(y)\n",
    "\n",
    "print(\"\\nQuantidade de 0s:\", quantidades[0])\n",
    "print(\"Quantidade de 1s:\", quantidades[1])"
   ]
  },
  {
   "cell_type": "code",
   "execution_count": 54,
   "id": "eec85b65-0de5-49e3-a0f9-681a50d48b92",
   "metadata": {},
   "outputs": [
    {
     "data": {
      "image/png": "[encoded data removed]",
      "text/plain": [
       "<Figure size 640x480 with 1 Axes>"
      ]
     },
     "metadata": {},
     "output_type": "display_data"
    }
   ],
   "source": [
    "plot = pd.DataFrame(y, columns=[\"Label\"])\n",
    "sns.countplot(x = 'Label', data=plot, hue = 'Label', palette = 'viridis')\n",
    "plt.yticks(np.arange(0, 21000, 1000))\n",
    "plt.show()"
   ]
  },
  {
   "cell_type": "code",
   "execution_count": 21,
   "id": "1d9ed9d2-1757-4141-aa63-ebed9dbf3a3a",
   "metadata": {
    "colab": {
     "base_uri": "https://localhost:8080/"
    },
    "executionInfo": {
     "elapsed": 328,
     "status": "ok",
     "timestamp": 1718679042210,
     "user": {
      "displayName": "teste colab",
      "userId": "02534551529574613489"
     },
     "user_tz": 180
    },
    "id": "1d9ed9d2-1757-4141-aa63-ebed9dbf3a3a",
    "outputId": "2e9d3c89-9dbf-488f-c834-51b7042bfb25"
   },
   "outputs": [
    {
     "name": "stdout",
     "output_type": "stream",
     "text": [
      "(30828, 24660)\n",
      "(7708, 24660)\n",
      "(30828,)\n",
      "(7708,)\n"
     ]
    }
   ],
   "source": [
    "X_train, X_test, y_train, y_test = train_test_split(X_vectorizer, y, test_size=0.2, random_state=7, shuffle=True)\n",
    "\n",
    "print(X_train.shape)\n",
    "print(X_test.shape)\n",
    "print(y_train.shape)\n",
    "print(y_test.shape)"
   ]
  },
  {
   "cell_type": "code",
   "execution_count": 47,
   "id": "Od7yWi0f88rn",
   "metadata": {
    "id": "Od7yWi0f88rn"
   },
   "outputs": [],
   "source": [
    "# Criar uma instância do classificador LinearSVC()\n",
    "clf = LinearSVC()\n",
    "\n",
    "# Treinar o classificador no seu conjunto de dados\n",
    "clf.fit(X_train, y_train)\n",
    "\n",
    "# Selecionar as características mais importantes\n",
    "sfm = SelectFromModel(clf, threshold=0.40)   #0.40 / 0.90\n",
    "sfm.fit(X_train, y_train)\n",
    "\n",
    "# Aplicar a transformação às suas características\n",
    "X_train = sfm.transform(X_train)\n",
    "X_test = sfm.transform(X_test)"
   ]
  },
  {
   "cell_type": "code",
   "execution_count": null,
   "id": "cvDo97kVMzpZ",
   "metadata": {
    "id": "cvDo97kVMzpZ"
   },
   "outputs": [],
   "source": [
    "# Inicialize o TruncatedSVD com o número desejado de componentes\n",
    "svd = TruncatedSVD(n_components=2)\n",
    "\n",
    "# Ajuste o TruncatedSVD aos seus dados de treinamento\n",
    "X_train = svd.fit_transform(X_train)\n",
    "\n",
    "# Aplique a transformação aos seus dados de teste\n",
    "X_test = svd.transform(X_test)"
   ]
  },
  {
   "cell_type": "code",
   "execution_count": 50,
   "id": "dsNpmZ8u9YFS",
   "metadata": {
    "colab": {
     "base_uri": "https://localhost:8080/"
    },
    "executionInfo": {
     "elapsed": 433,
     "status": "ok",
     "timestamp": 1718679078596,
     "user": {
      "displayName": "teste colab",
      "userId": "02534551529574613489"
     },
     "user_tz": 180
    },
    "id": "dsNpmZ8u9YFS",
    "outputId": "6453ff38-1eb1-4d04-dbf6-3ffab6ad071a"
   },
   "outputs": [
    {
     "name": "stdout",
     "output_type": "stream",
     "text": [
      "(30828, 6097)\n",
      "(7708, 6097)\n",
      "(30828,)\n",
      "(7708,)\n"
     ]
    }
   ],
   "source": [
    "print(X_train.shape)\n",
    "print(X_test.shape)\n",
    "print(y_train.shape)\n",
    "print(y_test.shape)"
   ]
  },
  {
   "cell_type": "code",
   "execution_count": 44,
   "id": "988c2fae-0163-4412-9d9c-dd0ba195df5e",
   "metadata": {
    "id": "988c2fae-0163-4412-9d9c-dd0ba195df5e"
   },
   "outputs": [],
   "source": [
    "trees = 50\n",
    "seed = 7"
   ]
  },
  {
   "cell_type": "code",
   "execution_count": 49,
   "id": "w9tOEQHnlTmk",
   "metadata": {
    "colab": {
     "base_uri": "https://localhost:8080/"
    },
    "executionInfo": {
     "elapsed": 1748,
     "status": "ok",
     "timestamp": 1718679147294,
     "user": {
      "displayName": "teste colab",
      "userId": "02534551529574613489"
     },
     "user_tz": 180
    },
    "id": "w9tOEQHnlTmk",
    "outputId": "03bcf653-f296-4b97-9d98-44a50f8134b9"
   },
   "outputs": [
    {
     "name": "stdout",
     "output_type": "stream",
     "text": [
      "0.994940321743643 \n",
      "\n",
      "              precision    recall  f1-score   support\n",
      "\n",
      "           0       0.99      1.00      0.99      3853\n",
      "           1       1.00      0.99      0.99      3855\n",
      "\n",
      "    accuracy                           0.99      7708\n",
      "   macro avg       0.99      0.99      0.99      7708\n",
      "weighted avg       0.99      0.99      0.99      7708\n",
      "\n"
     ]
    }
   ],
   "source": [
    "model3 = RandomForestClassifier(n_estimators = trees, random_state = seed).fit(X_train, y_train)\n",
    "print(model3.score(X_test, y_test), '\\n')\n",
    "y_pred = model3.predict(X_test)\n",
    "print(classification_report(y_test, y_pred))"
   ]
  },
  {
   "cell_type": "markdown",
   "id": "smBC-BQ9KLN4",
   "metadata": {
    "id": "smBC-BQ9KLN4"
   },
   "source": [
    "# Modelo de Treinamento Final"
   ]
  },
  {
   "cell_type": "code",
   "execution_count": 36,
   "id": "pV2Tr8ZUMXi1",
   "metadata": {
    "id": "pV2Tr8ZUMXi1"
   },
   "outputs": [],
   "source": [
    "X = df['Sentence'].values\n",
    "y = df['Label'].values\n",
    "\n",
    "TF_IDF = TfidfVectorizer(use_idf=True)\n",
    "X_vectorizer = TF_IDF.fit_transform(X)\n",
    "\n",
    "Smote = SMOTE(random_state=7)\n",
    "X_vectorizer, y = Smote.fit_resample(X_vectorizer, y)"
   ]
  },
  {
   "cell_type": "code",
   "execution_count": 37,
   "id": "xG5I7ZkeMZFj",
   "metadata": {
    "colab": {
     "base_uri": "https://localhost:8080/",
     "height": 210
    },
    "executionInfo": {
     "elapsed": 9184,
     "status": "ok",
     "timestamp": 1713670447713,
     "user": {
      "displayName": "teste colab",
      "userId": "02534551529574613489"
     },
     "user_tz": 180
    },
    "id": "xG5I7ZkeMZFj",
    "outputId": "b3e217f5-52c6-43fd-83b0-250fbc14f6d9"
   },
   "outputs": [
    {
     "name": "stdout",
     "output_type": "stream",
     "text": [
      "(30828, 24660)\n"
     ]
    },
    {
     "data": {
      "text/html": [
       "<style>#sk-container-id-1 {\n",
       "  /* Definition of color scheme common for light and dark mode */\n",
       "  --sklearn-color-text: black;\n",
       "  --sklearn-color-line: gray;\n",
       "  /* Definition of color scheme for unfitted estimators */\n",
       "  --sklearn-color-unfitted-level-0: #fff5e6;\n",
       "  --sklearn-color-unfitted-level-1: #f6e4d2;\n",
       "  --sklearn-color-unfitted-level-2: #ffe0b3;\n",
       "  --sklearn-color-unfitted-level-3: chocolate;\n",
       "  /* Definition of color scheme for fitted estimators */\n",
       "  --sklearn-color-fitted-level-0: #f0f8ff;\n",
       "  --sklearn-color-fitted-level-1: #d4ebff;\n",
       "  --sklearn-color-fitted-level-2: #b3dbfd;\n",
       "  --sklearn-color-fitted-level-3: cornflowerblue;\n",
       "\n",
       "  /* Specific color for light theme */\n",
       "  --sklearn-color-text-on-default-background: var(--sg-text-color, var(--theme-code-foreground, var(--jp-content-font-color1, black)));\n",
       "  --sklearn-color-background: var(--sg-background-color, var(--theme-background, var(--jp-layout-color0, white)));\n",
       "  --sklearn-color-border-box: var(--sg-text-color, var(--theme-code-foreground, var(--jp-content-font-color1, black)));\n",
       "  --sklearn-color-icon: #696969;\n",
       "\n",
       "  @media (prefers-color-scheme: dark) {\n",
       "    /* Redefinition of color scheme for dark theme */\n",
       "    --sklearn-color-text-on-default-background: var(--sg-text-color, var(--theme-code-foreground, var(--jp-content-font-color1, white)));\n",
       "    --sklearn-color-background: var(--sg-background-color, var(--theme-background, var(--jp-layout-color0, #111)));\n",
       "    --sklearn-color-border-box: var(--sg-text-color, var(--theme-code-foreground, var(--jp-content-font-color1, white)));\n",
       "    --sklearn-color-icon: #878787;\n",
       "  }\n",
       "}\n",
       "\n",
       "#sk-container-id-1 {\n",
       "  color: var(--sklearn-color-text);\n",
       "}\n",
       "\n",
       "#sk-container-id-1 pre {\n",
       "  padding: 0;\n",
       "}\n",
       "\n",
       "#sk-container-id-1 input.sk-hidden--visually {\n",
       "  border: 0;\n",
       "  clip: rect(1px 1px 1px 1px);\n",
       "  clip: rect(1px, 1px, 1px, 1px);\n",
       "  height: 1px;\n",
       "  margin: -1px;\n",
       "  overflow: hidden;\n",
       "  padding: 0;\n",
       "  position: absolute;\n",
       "  width: 1px;\n",
       "}\n",
       "\n",
       "#sk-container-id-1 div.sk-dashed-wrapped {\n",
       "  border: 1px dashed var(--sklearn-color-line);\n",
       "  margin: 0 0.4em 0.5em 0.4em;\n",
       "  box-sizing: border-box;\n",
       "  padding-bottom: 0.4em;\n",
       "  background-color: var(--sklearn-color-background);\n",
       "}\n",
       "\n",
       "#sk-container-id-1 div.sk-container {\n",
       "  /* jupyter's `normalize.less` sets `[hidden] { display: none; }`\n",
       "     but bootstrap.min.css set `[hidden] { display: none !important; }`\n",
       "     so we also need the `!important` here to be able to override the\n",
       "     default hidden behavior on the sphinx rendered scikit-learn.org.\n",
       "     See: https://github.com/scikit-learn/scikit-learn/issues/21755 */\n",
       "  display: inline-block !important;\n",
       "  position: relative;\n",
       "}\n",
       "\n",
       "#sk-container-id-1 div.sk-text-repr-fallback {\n",
       "  display: none;\n",
       "}\n",
       "\n",
       "div.sk-parallel-item,\n",
       "div.sk-serial,\n",
       "div.sk-item {\n",
       "  /* draw centered vertical line to link estimators */\n",
       "  background-image: linear-gradient(var(--sklearn-color-text-on-default-background), var(--sklearn-color-text-on-default-background));\n",
       "  background-size: 2px 100%;\n",
       "  background-repeat: no-repeat;\n",
       "  background-position: center center;\n",
       "}\n",
       "\n",
       "/* Parallel-specific style estimator block */\n",
       "\n",
       "#sk-container-id-1 div.sk-parallel-item::after {\n",
       "  content: \"\";\n",
       "  width: 100%;\n",
       "  border-bottom: 2px solid var(--sklearn-color-text-on-default-background);\n",
       "  flex-grow: 1;\n",
       "}\n",
       "\n",
       "#sk-container-id-1 div.sk-parallel {\n",
       "  display: flex;\n",
       "  align-items: stretch;\n",
       "  justify-content: center;\n",
       "  background-color: var(--sklearn-color-background);\n",
       "  position: relative;\n",
       "}\n",
       "\n",
       "#sk-container-id-1 div.sk-parallel-item {\n",
       "  display: flex;\n",
       "  flex-direction: column;\n",
       "}\n",
       "\n",
       "#sk-container-id-1 div.sk-parallel-item:first-child::after {\n",
       "  align-self: flex-end;\n",
       "  width: 50%;\n",
       "}\n",
       "\n",
       "#sk-container-id-1 div.sk-parallel-item:last-child::after {\n",
       "  align-self: flex-start;\n",
       "  width: 50%;\n",
       "}\n",
       "\n",
       "#sk-container-id-1 div.sk-parallel-item:only-child::after {\n",
       "  width: 0;\n",
       "}\n",
       "\n",
       "/* Serial-specific style estimator block */\n",
       "\n",
       "#sk-container-id-1 div.sk-serial {\n",
       "  display: flex;\n",
       "  flex-direction: column;\n",
       "  align-items: center;\n",
       "  background-color: var(--sklearn-color-background);\n",
       "  padding-right: 1em;\n",
       "  padding-left: 1em;\n",
       "}\n",
       "\n",
       "\n",
       "/* Toggleable style: style used for estimator/Pipeline/ColumnTransformer box that is\n",
       "clickable and can be expanded/collapsed.\n",
       "- Pipeline and ColumnTransformer use this feature and define the default style\n",
       "- Estimators will overwrite some part of the style using the `sk-estimator` class\n",
       "*/\n",
       "\n",
       "/* Pipeline and ColumnTransformer style (default) */\n",
       "\n",
       "#sk-container-id-1 div.sk-toggleable {\n",
       "  /* Default theme specific background. It is overwritten whether we have a\n",
       "  specific estimator or a Pipeline/ColumnTransformer */\n",
       "  background-color: var(--sklearn-color-background);\n",
       "}\n",
       "\n",
       "/* Toggleable label */\n",
       "#sk-container-id-1 label.sk-toggleable__label {\n",
       "  cursor: pointer;\n",
       "  display: block;\n",
       "  width: 100%;\n",
       "  margin-bottom: 0;\n",
       "  padding: 0.5em;\n",
       "  box-sizing: border-box;\n",
       "  text-align: center;\n",
       "}\n",
       "\n",
       "#sk-container-id-1 label.sk-toggleable__label-arrow:before {\n",
       "  /* Arrow on the left of the label */\n",
       "  content: \"▸\";\n",
       "  float: left;\n",
       "  margin-right: 0.25em;\n",
       "  color: var(--sklearn-color-icon);\n",
       "}\n",
       "\n",
       "#sk-container-id-1 label.sk-toggleable__label-arrow:hover:before {\n",
       "  color: var(--sklearn-color-text);\n",
       "}\n",
       "\n",
       "/* Toggleable content - dropdown */\n",
       "\n",
       "#sk-container-id-1 div.sk-toggleable__content {\n",
       "  max-height: 0;\n",
       "  max-width: 0;\n",
       "  overflow: hidden;\n",
       "  text-align: left;\n",
       "  /* unfitted */\n",
       "  background-color: var(--sklearn-color-unfitted-level-0);\n",
       "}\n",
       "\n",
       "#sk-container-id-1 div.sk-toggleable__content.fitted {\n",
       "  /* fitted */\n",
       "  background-color: var(--sklearn-color-fitted-level-0);\n",
       "}\n",
       "\n",
       "#sk-container-id-1 div.sk-toggleable__content pre {\n",
       "  margin: 0.2em;\n",
       "  border-radius: 0.25em;\n",
       "  color: var(--sklearn-color-text);\n",
       "  /* unfitted */\n",
       "  background-color: var(--sklearn-color-unfitted-level-0);\n",
       "}\n",
       "\n",
       "#sk-container-id-1 div.sk-toggleable__content.fitted pre {\n",
       "  /* unfitted */\n",
       "  background-color: var(--sklearn-color-fitted-level-0);\n",
       "}\n",
       "\n",
       "#sk-container-id-1 input.sk-toggleable__control:checked~div.sk-toggleable__content {\n",
       "  /* Expand drop-down */\n",
       "  max-height: 200px;\n",
       "  max-width: 100%;\n",
       "  overflow: auto;\n",
       "}\n",
       "\n",
       "#sk-container-id-1 input.sk-toggleable__control:checked~label.sk-toggleable__label-arrow:before {\n",
       "  content: \"▾\";\n",
       "}\n",
       "\n",
       "/* Pipeline/ColumnTransformer-specific style */\n",
       "\n",
       "#sk-container-id-1 div.sk-label input.sk-toggleable__control:checked~label.sk-toggleable__label {\n",
       "  color: var(--sklearn-color-text);\n",
       "  background-color: var(--sklearn-color-unfitted-level-2);\n",
       "}\n",
       "\n",
       "#sk-container-id-1 div.sk-label.fitted input.sk-toggleable__control:checked~label.sk-toggleable__label {\n",
       "  background-color: var(--sklearn-color-fitted-level-2);\n",
       "}\n",
       "\n",
       "/* Estimator-specific style */\n",
       "\n",
       "/* Colorize estimator box */\n",
       "#sk-container-id-1 div.sk-estimator input.sk-toggleable__control:checked~label.sk-toggleable__label {\n",
       "  /* unfitted */\n",
       "  background-color: var(--sklearn-color-unfitted-level-2);\n",
       "}\n",
       "\n",
       "#sk-container-id-1 div.sk-estimator.fitted input.sk-toggleable__control:checked~label.sk-toggleable__label {\n",
       "  /* fitted */\n",
       "  background-color: var(--sklearn-color-fitted-level-2);\n",
       "}\n",
       "\n",
       "#sk-container-id-1 div.sk-label label.sk-toggleable__label,\n",
       "#sk-container-id-1 div.sk-label label {\n",
       "  /* The background is the default theme color */\n",
       "  color: var(--sklearn-color-text-on-default-background);\n",
       "}\n",
       "\n",
       "/* On hover, darken the color of the background */\n",
       "#sk-container-id-1 div.sk-label:hover label.sk-toggleable__label {\n",
       "  color: var(--sklearn-color-text);\n",
       "  background-color: var(--sklearn-color-unfitted-level-2);\n",
       "}\n",
       "\n",
       "/* Label box, darken color on hover, fitted */\n",
       "#sk-container-id-1 div.sk-label.fitted:hover label.sk-toggleable__label.fitted {\n",
       "  color: var(--sklearn-color-text);\n",
       "  background-color: var(--sklearn-color-fitted-level-2);\n",
       "}\n",
       "\n",
       "/* Estimator label */\n",
       "\n",
       "#sk-container-id-1 div.sk-label label {\n",
       "  font-family: monospace;\n",
       "  font-weight: bold;\n",
       "  display: inline-block;\n",
       "  line-height: 1.2em;\n",
       "}\n",
       "\n",
       "#sk-container-id-1 div.sk-label-container {\n",
       "  text-align: center;\n",
       "}\n",
       "\n",
       "/* Estimator-specific */\n",
       "#sk-container-id-1 div.sk-estimator {\n",
       "  font-family: monospace;\n",
       "  border: 1px dotted var(--sklearn-color-border-box);\n",
       "  border-radius: 0.25em;\n",
       "  box-sizing: border-box;\n",
       "  margin-bottom: 0.5em;\n",
       "  /* unfitted */\n",
       "  background-color: var(--sklearn-color-unfitted-level-0);\n",
       "}\n",
       "\n",
       "#sk-container-id-1 div.sk-estimator.fitted {\n",
       "  /* fitted */\n",
       "  background-color: var(--sklearn-color-fitted-level-0);\n",
       "}\n",
       "\n",
       "/* on hover */\n",
       "#sk-container-id-1 div.sk-estimator:hover {\n",
       "  /* unfitted */\n",
       "  background-color: var(--sklearn-color-unfitted-level-2);\n",
       "}\n",
       "\n",
       "#sk-container-id-1 div.sk-estimator.fitted:hover {\n",
       "  /* fitted */\n",
       "  background-color: var(--sklearn-color-fitted-level-2);\n",
       "}\n",
       "\n",
       "/* Specification for estimator info (e.g. \"i\" and \"?\") */\n",
       "\n",
       "/* Common style for \"i\" and \"?\" */\n",
       "\n",
       ".sk-estimator-doc-link,\n",
       "a:link.sk-estimator-doc-link,\n",
       "a:visited.sk-estimator-doc-link {\n",
       "  float: right;\n",
       "  font-size: smaller;\n",
       "  line-height: 1em;\n",
       "  font-family: monospace;\n",
       "  background-color: var(--sklearn-color-background);\n",
       "  border-radius: 1em;\n",
       "  height: 1em;\n",
       "  width: 1em;\n",
       "  text-decoration: none !important;\n",
       "  margin-left: 1ex;\n",
       "  /* unfitted */\n",
       "  border: var(--sklearn-color-unfitted-level-1) 1pt solid;\n",
       "  color: var(--sklearn-color-unfitted-level-1);\n",
       "}\n",
       "\n",
       ".sk-estimator-doc-link.fitted,\n",
       "a:link.sk-estimator-doc-link.fitted,\n",
       "a:visited.sk-estimator-doc-link.fitted {\n",
       "  /* fitted */\n",
       "  border: var(--sklearn-color-fitted-level-1) 1pt solid;\n",
       "  color: var(--sklearn-color-fitted-level-1);\n",
       "}\n",
       "\n",
       "/* On hover */\n",
       "div.sk-estimator:hover .sk-estimator-doc-link:hover,\n",
       ".sk-estimator-doc-link:hover,\n",
       "div.sk-label-container:hover .sk-estimator-doc-link:hover,\n",
       ".sk-estimator-doc-link:hover {\n",
       "  /* unfitted */\n",
       "  background-color: var(--sklearn-color-unfitted-level-3);\n",
       "  color: var(--sklearn-color-background);\n",
       "  text-decoration: none;\n",
       "}\n",
       "\n",
       "div.sk-estimator.fitted:hover .sk-estimator-doc-link.fitted:hover,\n",
       ".sk-estimator-doc-link.fitted:hover,\n",
       "div.sk-label-container:hover .sk-estimator-doc-link.fitted:hover,\n",
       ".sk-estimator-doc-link.fitted:hover {\n",
       "  /* fitted */\n",
       "  background-color: var(--sklearn-color-fitted-level-3);\n",
       "  color: var(--sklearn-color-background);\n",
       "  text-decoration: none;\n",
       "}\n",
       "\n",
       "/* Span, style for the box shown on hovering the info icon */\n",
       ".sk-estimator-doc-link span {\n",
       "  display: none;\n",
       "  z-index: 9999;\n",
       "  position: relative;\n",
       "  font-weight: normal;\n",
       "  right: .2ex;\n",
       "  padding: .5ex;\n",
       "  margin: .5ex;\n",
       "  width: min-content;\n",
       "  min-width: 20ex;\n",
       "  max-width: 50ex;\n",
       "  color: var(--sklearn-color-text);\n",
       "  box-shadow: 2pt 2pt 4pt #999;\n",
       "  /* unfitted */\n",
       "  background: var(--sklearn-color-unfitted-level-0);\n",
       "  border: .5pt solid var(--sklearn-color-unfitted-level-3);\n",
       "}\n",
       "\n",
       ".sk-estimator-doc-link.fitted span {\n",
       "  /* fitted */\n",
       "  background: var(--sklearn-color-fitted-level-0);\n",
       "  border: var(--sklearn-color-fitted-level-3);\n",
       "}\n",
       "\n",
       ".sk-estimator-doc-link:hover span {\n",
       "  display: block;\n",
       "}\n",
       "\n",
       "/* \"?\"-specific style due to the `<a>` HTML tag */\n",
       "\n",
       "#sk-container-id-1 a.estimator_doc_link {\n",
       "  float: right;\n",
       "  font-size: 1rem;\n",
       "  line-height: 1em;\n",
       "  font-family: monospace;\n",
       "  background-color: var(--sklearn-color-background);\n",
       "  border-radius: 1rem;\n",
       "  height: 1rem;\n",
       "  width: 1rem;\n",
       "  text-decoration: none;\n",
       "  /* unfitted */\n",
       "  color: var(--sklearn-color-unfitted-level-1);\n",
       "  border: var(--sklearn-color-unfitted-level-1) 1pt solid;\n",
       "}\n",
       "\n",
       "#sk-container-id-1 a.estimator_doc_link.fitted {\n",
       "  /* fitted */\n",
       "  border: var(--sklearn-color-fitted-level-1) 1pt solid;\n",
       "  color: var(--sklearn-color-fitted-level-1);\n",
       "}\n",
       "\n",
       "/* On hover */\n",
       "#sk-container-id-1 a.estimator_doc_link:hover {\n",
       "  /* unfitted */\n",
       "  background-color: var(--sklearn-color-unfitted-level-3);\n",
       "  color: var(--sklearn-color-background);\n",
       "  text-decoration: none;\n",
       "}\n",
       "\n",
       "#sk-container-id-1 a.estimator_doc_link.fitted:hover {\n",
       "  /* fitted */\n",
       "  background-color: var(--sklearn-color-fitted-level-3);\n",
       "}\n",
       "</style><div id=\"sk-container-id-1\" class=\"sk-top-container\"><div class=\"sk-text-repr-fallback\"><pre>Pipeline(steps=[(&#x27;sfm&#x27;, SelectFromModel(estimator=LinearSVC(), threshold=0.4)),\n",
       "                (&#x27;classifier&#x27;,\n",
       "                 RandomForestClassifier(n_estimators=50, random_state=7))])</pre><b>In a Jupyter environment, please rerun this cell to show the HTML representation or trust the notebook. <br />On GitHub, the HTML representation is unable to render, please try loading this page with nbviewer.org.</b></div><div class=\"sk-container\" hidden><div class=\"sk-item sk-dashed-wrapped\"><div class=\"sk-label-container\"><div class=\"sk-label fitted sk-toggleable\"><input class=\"sk-toggleable__control sk-hidden--visually\" id=\"sk-estimator-id-1\" type=\"checkbox\" ><label for=\"sk-estimator-id-1\" class=\"sk-toggleable__label fitted sk-toggleable__label-arrow fitted\">&nbsp;&nbsp;Pipeline<a class=\"sk-estimator-doc-link fitted\" rel=\"noreferrer\" target=\"_blank\" href=\"https://scikit-learn.org/1.5/modules/generated/sklearn.pipeline.Pipeline.html\">?<span>Documentation for Pipeline</span></a><span class=\"sk-estimator-doc-link fitted\">i<span>Fitted</span></span></label><div class=\"sk-toggleable__content fitted\"><pre>Pipeline(steps=[(&#x27;sfm&#x27;, SelectFromModel(estimator=LinearSVC(), threshold=0.4)),\n",
       "                (&#x27;classifier&#x27;,\n",
       "                 RandomForestClassifier(n_estimators=50, random_state=7))])</pre></div> </div></div><div class=\"sk-serial\"><div class=\"sk-item sk-dashed-wrapped\"><div class=\"sk-label-container\"><div class=\"sk-label fitted sk-toggleable\"><input class=\"sk-toggleable__control sk-hidden--visually\" id=\"sk-estimator-id-2\" type=\"checkbox\" ><label for=\"sk-estimator-id-2\" class=\"sk-toggleable__label fitted sk-toggleable__label-arrow fitted\">&nbsp;sfm: SelectFromModel<a class=\"sk-estimator-doc-link fitted\" rel=\"noreferrer\" target=\"_blank\" href=\"https://scikit-learn.org/1.5/modules/generated/sklearn.feature_selection.SelectFromModel.html\">?<span>Documentation for sfm: SelectFromModel</span></a></label><div class=\"sk-toggleable__content fitted\"><pre>SelectFromModel(estimator=LinearSVC(), threshold=0.4)</pre></div> </div></div><div class=\"sk-parallel\"><div class=\"sk-parallel-item\"><div class=\"sk-item\"><div class=\"sk-label-container\"><div class=\"sk-label fitted sk-toggleable\"><input class=\"sk-toggleable__control sk-hidden--visually\" id=\"sk-estimator-id-3\" type=\"checkbox\" ><label for=\"sk-estimator-id-3\" class=\"sk-toggleable__label fitted sk-toggleable__label-arrow fitted\">estimator: LinearSVC</label><div class=\"sk-toggleable__content fitted\"><pre>LinearSVC()</pre></div> </div></div><div class=\"sk-serial\"><div class=\"sk-item\"><div class=\"sk-estimator fitted sk-toggleable\"><input class=\"sk-toggleable__control sk-hidden--visually\" id=\"sk-estimator-id-4\" type=\"checkbox\" ><label for=\"sk-estimator-id-4\" class=\"sk-toggleable__label fitted sk-toggleable__label-arrow fitted\">&nbsp;LinearSVC<a class=\"sk-estimator-doc-link fitted\" rel=\"noreferrer\" target=\"_blank\" href=\"https://scikit-learn.org/1.5/modules/generated/sklearn.svm.LinearSVC.html\">?<span>Documentation for LinearSVC</span></a></label><div class=\"sk-toggleable__content fitted\"><pre>LinearSVC()</pre></div> </div></div></div></div></div></div></div><div class=\"sk-item\"><div class=\"sk-estimator fitted sk-toggleable\"><input class=\"sk-toggleable__control sk-hidden--visually\" id=\"sk-estimator-id-5\" type=\"checkbox\" ><label for=\"sk-estimator-id-5\" class=\"sk-toggleable__label fitted sk-toggleable__label-arrow fitted\">&nbsp;RandomForestClassifier<a class=\"sk-estimator-doc-link fitted\" rel=\"noreferrer\" target=\"_blank\" href=\"https://scikit-learn.org/1.5/modules/generated/sklearn.ensemble.RandomForestClassifier.html\">?<span>Documentation for RandomForestClassifier</span></a></label><div class=\"sk-toggleable__content fitted\"><pre>RandomForestClassifier(n_estimators=50, random_state=7)</pre></div> </div></div></div></div></div></div>"
      ],
      "text/plain": [
       "Pipeline(steps=[('sfm', SelectFromModel(estimator=LinearSVC(), threshold=0.4)),\n",
       "                ('classifier',\n",
       "                 RandomForestClassifier(n_estimators=50, random_state=7))])"
      ]
     },
     "execution_count": 37,
     "metadata": {},
     "output_type": "execute_result"
    }
   ],
   "source": [
    "X_train, X_test, y_train, y_test = train_test_split(X_vectorizer, y, test_size=0.2, random_state=7)\n",
    "\n",
    "print(X_train.shape)\n",
    "\n",
    "pipeline = Pipeline([\n",
    "    ('sfm', SelectFromModel(LinearSVC(), threshold=0.40)),\n",
    "    ('classifier', RandomForestClassifier(n_estimators = 50, random_state = 7))\n",
    "])\n",
    "\n",
    "pipeline.fit(X_train, y_train)"
   ]
  },
  {
   "cell_type": "code",
   "execution_count": 38,
   "id": "KPtAqbmjqJ6E",
   "metadata": {
    "colab": {
     "base_uri": "https://localhost:8080/"
    },
    "executionInfo": {
     "elapsed": 372,
     "status": "ok",
     "timestamp": 1713670140866,
     "user": {
      "displayName": "teste colab",
      "userId": "02534551529574613489"
     },
     "user_tz": 180
    },
    "id": "KPtAqbmjqJ6E",
    "outputId": "aa3f9099-7c93-4a96-dcdd-4572bcb1be84"
   },
   "outputs": [
    {
     "name": "stdout",
     "output_type": "stream",
     "text": [
      "              precision    recall  f1-score   support\n",
      "\n",
      "           0       0.99      1.00      0.99      3853\n",
      "           1       1.00      0.99      0.99      3855\n",
      "\n",
      "    accuracy                           0.99      7708\n",
      "   macro avg       0.99      0.99      0.99      7708\n",
      "weighted avg       0.99      0.99      0.99      7708\n",
      "\n",
      "0.994940321743643\n"
     ]
    }
   ],
   "source": [
    "print(classification_report(y_test, pipeline.predict(X_test)))\n",
    "print(pipeline.score(X_test, y_test))"
   ]
  },
  {
   "cell_type": "code",
   "execution_count": 39,
   "id": "ajaqq0lOqihA",
   "metadata": {
    "colab": {
     "base_uri": "https://localhost:8080/",
     "height": 472
    },
    "executionInfo": {
     "elapsed": 21,
     "status": "ok",
     "timestamp": 1713670146371,
     "user": {
      "displayName": "teste colab",
      "userId": "02534551529574613489"
     },
     "user_tz": 180
    },
    "id": "ajaqq0lOqihA",
    "outputId": "ccaeb15c-f98f-419c-9ab9-6d9c542dd47c"
   },
   "outputs": [
    {
     "data": {
      "image/png": "[encoded data removed]",
      "text/plain": [
       "<Figure size 640x480 with 1 Axes>"
      ]
     },
     "metadata": {},
     "output_type": "display_data"
    }
   ],
   "source": [
    "cm = confusion_matrix(y_test, pipeline.predict(X_test))\n",
    "\n",
    "# Plotar matriz de confusão usando Seaborn\n",
    "sns.heatmap(cm, annot=True, fmt='g', cbar=False)\n",
    "plt.ylabel('Predicted')\n",
    "plt.xlabel('Actual')\n",
    "plt.title('Confusion Matrix')\n",
    "plt.show()"
   ]
  },
  {
   "cell_type": "code",
   "execution_count": 42,
   "id": "IDI_EcqfdWVy",
   "metadata": {
    "colab": {
     "base_uri": "https://localhost:8080/"
    },
    "executionInfo": {
     "elapsed": 8,
     "status": "ok",
     "timestamp": 1713670276717,
     "user": {
      "displayName": "teste colab",
      "userId": "02534551529574613489"
     },
     "user_tz": 180
    },
    "id": "IDI_EcqfdWVy",
    "outputId": "0e5362ba-2606-4b45-c409-5ed1e3030237"
   },
   "outputs": [
    {
     "name": "stdout",
     "output_type": "stream",
     "text": [
      "Previsão: 0\n"
     ]
    }
   ],
   "source": [
    "frase1 = \"SELECT nome, idade, cidade FROM clientes WHERE cidade = 'São Paulo';\"\n",
    "frase2 = \"SELECT * FROM produtos WHERE desconto > 20;\"\n",
    "frase3 = \"SELECT COUNT(*) FROM pedidos WHERE cliente_id = 10\"\n",
    "frase4 = \"SELECT * FROM carros WHERE ano_fabricacao BETWEEN 2018 AND 2022\"\n",
    "frase5 = \"SELECT * FROM funcionarios WHERE data_contratacao >= DATE_SUB(NOW(), INTERVAL 1 MONTH)\"\n",
    "\n",
    "frase6 = \"SELECT table_name FROM information_schema.tables\"\n",
    "frase7 = \"OR 3409=3409 AND ('pytW' LIKE 'pytW\"\n",
    "frase8 = \"RLIKE (SELECT (CASE WHEN (4346=4346) THEN 0x61646d696e ELSE 0x28 END)) AND 'Txws'='\"\n",
    "frase9 = \"AND (SELECT * FROM (SELECT(SLEEP(5)))bAKL) AND 'vRxe'='vRxe\"\n",
    "frase10 = \"AND 2947=LIKE('ABCDEFG',UPPER(HEX(RANDOMBLOB(1000000000/2))))\"\n",
    "frase11= \",(select * from (select(sleep(10)))a)%2c(select%20*%20from%20(select(sleep(10)))a)';WAITFOR DELAY '0:0:30'--\"\n",
    "frase12 = \"@@VERSION,SLEEP(5),USER(),BENCHMARK(1000000,MD5('A')),5,6,7,8,9,10,11,12,13,14,15,16,17,18,19,20,21,22,23,24,25,26,27,28,29,30\"\n",
    "\n",
    "extra1 = \"select * from carros c1 natural join ( \" + \\\n",
    "         \"select c2.cod_carro, count(c2.cod_carro) as qtd_vendidos \" + \\\n",
    "         \"from vendas v1 natural join carros c2 \" + \\\n",
    "         \"where data_venda > '2010/01/01' and data_venda < '2015/01/01' \" + \\\n",
    "         \"group by c2.cod_carro) t1 where qtd_vendidos = ( \" + \\\n",
    "         \"select max(qtd_vendidos) from ( \" + \\\n",
    "         \"select count(c3.cod_carro) as qtd_vendidos \" + \\\n",
    "         \"from vendas v2 natural join carros c3 \" + \\\n",
    "         \"where data_venda > '2010/01/01' and data_venda < '2015/01/01' \" + \\\n",
    "         \"group by c3.cod_carro) t2);\"\n",
    "\n",
    "extra2 = \"select * from carros c1 natural join\"\n",
    "\n",
    "extra3 = \"select c2.cod_carro, count(c2.cod_carro) as qtd_vendidos \" + \\\n",
    "         \"from vendas v1 natural join carros c2 \" + \\\n",
    "         \"where data_venda > '2010/01/01' and data_venda < '2015/01/01' \" + \\\n",
    "         \"group by c2.cod_carro\"\n",
    "\n",
    "extra4 = \"select v.id, v.CPF_cliente, v.cod_carro, c.ano from vendas v, carros c \" + \\\n",
    "         \"where (v.CPF_cliente, v.cod_carro) not in \" + \\\n",
    "         \"(select t.CPF_cliente, t.cod_carro_antigo cod_carro from trocas t) \" + \\\n",
    "         \"and c.cod_carro = v.cod_carro and c.ano <= 2013;\"\n",
    "\n",
    "extra5 = \"select f.CPF_funcionario, f.nome, qtd_vendas \" + \\\n",
    "         \"from funcionarios f natural join ( \" + \\\n",
    "         \"select f.CPF_funcionario, count(c.CPF_cliente) qtd_vendas \" + \\\n",
    "         \"from funcionarios f join clientes c on f.CPF_funcionario = c.CPF_funcionario \" + \\\n",
    "         \"join vendas v on c.CPF_cliente = v.CPF_cliente group by f.CPF_funcionario) t1 \" + \\\n",
    "         \"where qtd_vendas = (select max(qtd_vendas) max from ( \" + \\\n",
    "         \"select f.CPF_funcionario, count(c.CPF_cliente) qtd_vendas \" + \\\n",
    "         \"from funcionarios f join clientes c on f.CPF_funcionario = c.CPF_funcionario \" + \\\n",
    "         \"join vendas v on c.CPF_cliente = v.CPF_cliente group by f.CPF_funcionario) t2);\"\n",
    "\n",
    "extra6 = \"' or 1=1 --\"\n",
    "\n",
    "extra7 = \"DELETE FROM tomorrow\"\n",
    "\n",
    "frase_vetorizada = TF_IDF.transform([extra7])\n",
    "previsao = pipeline.predict(frase_vetorizada)\n",
    "print(\"Previsão:\", previsao[0])"
   ]
  },
  {
   "cell_type": "code",
   "execution_count": 43,
   "id": "lTXHJk8HplhP",
   "metadata": {
    "colab": {
     "base_uri": "https://localhost:8080/"
    },
    "executionInfo": {
     "elapsed": 255,
     "status": "ok",
     "timestamp": 1713668448465,
     "user": {
      "displayName": "teste colab",
      "userId": "02534551529574613489"
     },
     "user_tz": 180
    },
    "id": "lTXHJk8HplhP",
    "outputId": "52b4622f-b411-49e1-df83-7ebab0809c4d"
   },
   "outputs": [
    {
     "name": "stdout",
     "output_type": "stream",
     "text": [
      "A frase está presente no DataFrame.\n"
     ]
    }
   ],
   "source": [
    "frase_esta_no_dataframe = df['Sentence'].str.contains(extra7).any()\n",
    "\n",
    "if frase_esta_no_dataframe:\n",
    "    print(\"A frase está presente no DataFrame.\")\n",
    "else:\n",
    "    print(\"A frase não está presente no DataFrame.\")"
   ]
  }
 ],
 "metadata": {
  "accelerator": "GPU",
  "colab": {
   "collapsed_sections": [
    "31Yu29lsngWq",
    "iGnCppQ3ZMu2",
    "9lvNYy2uZdBo",
    "hs3EXkg9ZzJl",
    "cj5iwjKwaNSP",
    "06I7n3QyaghM",
    "iTzj_DogbEJ7",
    "ii-yNogsdmBM",
    "77_8cHc2oTxM",
    "lQfK1q2MnLod",
    "-5MTwlOrimkZ",
    "0f92e8d6-6ef2-466b-aac4-da2fead0b2f4"
   ],
   "gpuType": "T4",
   "provenance": []
  },
  "kernelspec": {
   "display_name": "Python 3 (ipykernel)",
   "language": "python",
   "name": "python3"
  },
  "language_info": {
   "codemirror_mode": {
    "name": "ipython",
    "version": 3
   },
   "file_extension": ".py",
   "mimetype": "text/x-python",
   "name": "python",
   "nbconvert_exporter": "python",
   "pygments_lexer": "ipython3",
   "version": "3.12.4"
  }
 },
 "nbformat": 4,
 "nbformat_minor": 5
}
